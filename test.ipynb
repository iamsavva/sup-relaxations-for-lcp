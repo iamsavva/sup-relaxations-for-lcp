{
 "cells": [
  {
   "cell_type": "code",
   "execution_count": 1,
   "metadata": {},
   "outputs": [],
   "source": [
    "import typing as T  # pylint: disable=unused-import\n",
    "\n",
    "import numpy as np\n",
    "import numpy.typing as npt\n",
    "\n",
    "from pydrake.solvers import (  # pylint: disable=import-error, no-name-in-module, unused-import\n",
    "    MakeSemidefiniteRelaxation,\n",
    "    MathematicalProgram,\n",
    "    MathematicalProgramResult,\n",
    "    Solve,\n",
    "    IpoptSolver,\n",
    "    SnoptSolver,\n",
    "    GurobiSolver,\n",
    "    MosekSolver,\n",
    "    MosekSolverDetails,\n",
    "    SolverOptions,\n",
    "    CommonSolverOption,\n",
    ")\n",
    "\n",
    "from pydrake.geometry.optimization import (  # pylint: disable=import-error, no-name-in-module\n",
    "    HPolyhedron,\n",
    "    Point,\n",
    "    ConvexSet,\n",
    "    GraphOfConvexSets,\n",
    "    GraphOfConvexSetsOptions,\n",
    ")\n",
    "\n",
    "from pydrake.symbolic import ( # pylint: disable=import-error, no-name-in-module, unused-import\n",
    "    Polynomial,\n",
    "    Variable,\n",
    "    Variables,\n",
    "    Expression,\n",
    ")  \n",
    "\n",
    "from contact_cart import ContactCart\n",
    "\n",
    "import plotly.graph_objects as go  # pylint: disable=import-error\n",
    "from plotly.express.colors import sample_colorscale  # pylint: disable=import-error\n",
    "import plotly.graph_objs as go\n",
    "from plotly.subplots import make_subplots"
   ]
  },
  {
   "cell_type": "code",
   "execution_count": 2,
   "metadata": {},
   "outputs": [],
   "source": [
    "def make_plots(qcqp_scaling_factor):\n",
    "    cart = ContactCart(v0=-7, qcqp_scaling_factor = qcqp_scaling_factor, verbose = True, Qx =1, Rf=0.01, umax=50)\n",
    "\n",
    "    x_trajs = []\n",
    "    v_trajs = []\n",
    "    f_trajs = []\n",
    "    u_trajs = []\n",
    "    lcp_trajs = []\n",
    "    cost_trajs = []\n",
    "\n",
    "    colors = {\"micp\": \"red\", \"sdp\":\"blue\", \"dec qcqp\":\"green\", \"dec qcqp warmstart\": \"yellow\", \"chordal sdp\": \"purple\"}\n",
    "\n",
    "    # functions = [(cart.solve_nonconvex_qcqp_sdp_relaxation(),\"sdp\"), (cart.solve_micp_with_gcs(), \"micp\"), (cart.solve_qcqp_convex_diff_decomposition(), \"dec qcqp\"), (cart.solve_sdp_convex_diff_decomposition(), \"dec sdp\")]\n",
    "    # functions = [(cart.solve_nonconvex_qcqp_sdp_relaxation(),\"sdp\"), (cart.solve_micp_with_gcs(), \"micp\"), (cart.solve_our_qcqp_convex_diff_decomposition(), \"dec qcqp\")]\n",
    "    functions = [(cart.solve_nonconvex_qcqp_sdp_relaxation(),\"sdp\"), \n",
    "                 (cart.solve_micp_with_gcs(), \"micp\"), \n",
    "                 (cart.solve_our_qcqp_convex_diff_decomposition(), \"dec qcqp\"),\n",
    "                #  (cart.solve_bad_qcqp_convex_diff_decomposition(), \"bad qcqp\"),\n",
    "                 (cart.solve_chordal_nonconvex_qcqp_sdp_relaxation(), \"chordal sdp\"),\n",
    "                 (cart.solve_our_qcqp_convex_diff_decomposition_with_warmstart(), \"dec qcqp warmstart\"),\n",
    "                 ]\n",
    "\n",
    "    for (stuff, name) in functions:\n",
    "        cost, x_traj, v_traj, f_traj, u_traj, lcp_v_traj = stuff\n",
    "        x_trajs.append((x_traj, name))\n",
    "        v_trajs.append((v_traj, name))\n",
    "        f_trajs.append((f_traj, name))\n",
    "        u_trajs.append((u_traj, name))\n",
    "        lcp_trajs.append((lcp_v_traj, name))\n",
    "        cost_trajs.append((np.ones(len(x_traj))*cost, name))\n",
    "\n",
    "    fig = go.Figure()\n",
    "\n",
    "    time = np.array(list(range(cart.N)))\n",
    "\n",
    "    # Create subplots\n",
    "    fig = make_subplots(rows=6, cols=1)\n",
    "\n",
    "\n",
    "    for (x_traj, name) in x_trajs:\n",
    "        fig.add_trace(go.Scatter(x=time, y=x_traj, mode='lines', name=name, line=dict(color=colors[name]) ), row=1, col=1)\n",
    "\n",
    "    for (x_traj, name) in v_trajs:\n",
    "        fig.add_trace(go.Scatter(x=time, y=x_traj, mode='lines', name=name, line=dict(color=colors[name])), row=2, col=1)    \n",
    "\n",
    "    for (x_traj, name) in f_trajs:\n",
    "        fig.add_trace(go.Scatter(x=time, y=x_traj, mode='lines', name=name, line=dict(color=colors[name])), row=3, col=1)    \n",
    "\n",
    "    for (x_traj, name) in u_trajs:\n",
    "        fig.add_trace(go.Scatter(x=time, y=x_traj, mode='lines', name=name, line=dict(color=colors[name])), row=4, col=1)    \n",
    "\n",
    "    for (x_traj, name) in lcp_trajs:\n",
    "        fig.add_trace(go.Scatter(x=time, y=x_traj, mode='lines', name=name, line=dict(color=colors[name])), row=5, col=1)    \n",
    "\n",
    "    for (x_traj, name) in cost_trajs:\n",
    "        fig.add_trace(go.Scatter(x=time, y=x_traj, mode='lines', name=name, line=dict(color=colors[name])), row=6, col=1)    \n",
    "\n",
    "\n",
    "    # Update layout\n",
    "    fig.update_layout(height=1200, width=800, title_text=\"Solver Comparisons\")\n",
    "\n",
    "    fig.update_yaxes(title_text=\"Position\", row=1, col=1)\n",
    "    fig.update_yaxes(title_text=\"Velocity\", row=2, col=1)\n",
    "    fig.update_yaxes(title_text=\"Normal Force\", row=3, col=1)\n",
    "    fig.update_yaxes(title_text=\"Control\", row=4, col=1)\n",
    "    fig.update_yaxes(title_text=\"LCP violation\", row=5, col=1)\n",
    "    fig.update_yaxes(title_text=\"Cost\", row=6, col=1)\n",
    "\n",
    "    # Show plot\n",
    "    fig.show()"
   ]
  },
  {
   "cell_type": "code",
   "execution_count": 3,
   "metadata": {},
   "outputs": [
    {
     "name": "stderr",
     "output_type": "stream",
     "text": [
      "INFO:drake:Solved GCS shortest path using Gurobi with convex_relaxation=false and preprocessing=false and no rounding.\n",
      "INFO:drake:Solved GCS shortest path using Mosek with convex_relaxation=true and preprocessing=false and rounding.\n",
      "INFO:drake:Finished 100 rounding trials.\n"
     ]
    },
    {
     "name": "stdout",
     "output_type": "stream",
     "text": [
      "\u001b[34mnonconvex QCQP relaxaion with MOSEK took 0.266s\n",
      "\u001b[32msolve successful!\n",
      "\u001b[32m33.64993910594622\n",
      "\u001b[32mSolutionResult.kSolutionFound\n",
      "\u001b[32mSolver is Mosek\n",
      "\u001b[32m<pydrake.solvers.MosekSolverDetails object at 0x28d1cd5b0>\n",
      "\u001b[32mtime 0.25592780113220215\n",
      "\u001b[32mrescode 0\n",
      "\u001b[32msolution_status 1\n",
      "\u001b[34m-------------------\n",
      "Set parameter Username\n",
      "Academic license - for non-commercial use only - expires 2024-12-01\n",
      "\u001b[34mGCS MICP took 0.224s\n",
      "\u001b[32msolve successful!\n",
      "\u001b[32m33.64993921817789\n",
      "\u001b[32mSolutionResult.kSolutionFound\n",
      "\u001b[32mSolver is Gurobi\n",
      "\u001b[34m-------------------\n",
      "\u001b[34mour convex decomposition QCQP took 0.006s\n",
      "\u001b[32msolve successful!\n",
      "\u001b[32m27.168949325959325\n",
      "\u001b[32mSolutionResult.kSolutionFound\n",
      "\u001b[32mSolver is Mosek\n",
      "\u001b[32m<pydrake.solvers.MosekSolverDetails object at 0x28d1ce7b0>\n",
      "\u001b[32mtime 0.0011148452758789062\n",
      "\u001b[32mrescode 0\n",
      "\u001b[32msolution_status 1\n",
      "\u001b[33m27.168949325959325\n",
      "\u001b[34m-------------------\n",
      "\u001b[34mchordal noconvex-qcqp SDP relaxation took 0.052s\n",
      "\u001b[32msolve successful!\n",
      "\u001b[32m33.64995931467382\n",
      "\u001b[32mSolutionResult.kSolutionFound\n",
      "\u001b[32mSolver is Mosek\n",
      "\u001b[32m<pydrake.solvers.MosekSolverDetails object at 0x28d1ebb30>\n",
      "\u001b[32mtime 0.01025390625\n",
      "\u001b[32mrescode 0\n",
      "\u001b[32msolution_status 1\n",
      "\u001b[34m-------------------\n",
      "\u001b[34mour convex decomposition QCQP took 0.006s\n",
      "\u001b[32msolve successful!\n",
      "\u001b[32m27.168949325959325\n",
      "\u001b[32mSolutionResult.kSolutionFound\n",
      "\u001b[32mSolver is Mosek\n",
      "\u001b[32m<pydrake.solvers.MosekSolverDetails object at 0x28d1a9030>\n",
      "\u001b[32mtime 0.001074075698852539\n",
      "\u001b[32mrescode 0\n",
      "\u001b[32msolution_status 1\n",
      "\u001b[33m27.168949325959325\n",
      "\u001b[34m-------------------\n",
      "\u001b[34mIPOPT with warmstart took 0.019s\n",
      "\u001b[32msolve successful!\n",
      "\u001b[32m38.114181484118554\n",
      "\u001b[32mSolutionResult.kSolutionFound\n",
      "\u001b[32mSolver is IPOPT\n",
      "\u001b[34m-------------------\n"
     ]
    },
    {
     "data": {
      "application/vnd.plotly.v1+json": {
       "config": {
        "plotlyServerURL": "https://plot.ly"
       },
       "data": [
        {
         "line": {
          "color": "blue"
         },
         "mode": "lines",
         "name": "sdp",
         "type": "scatter",
         "x": [
          0,
          1,
          2,
          3,
          4,
          5,
          6,
          7,
          8,
          9
         ],
         "xaxis": "x",
         "y": [
          1,
          0.6324323198791506,
          0.5047244420344738,
          0.5403782363352468,
          0.67948188483097,
          0.877754321025106,
          1.104711318178157,
          1.3413778886373287,
          1.5778291191694411,
          1.8107241832337568,
          2.0409083335088503
         ],
         "yaxis": "y"
        },
        {
         "line": {
          "color": "red"
         },
         "mode": "lines",
         "name": "micp",
         "type": "scatter",
         "x": [
          0,
          1,
          2,
          3,
          4,
          5,
          6,
          7,
          8,
          9
         ],
         "xaxis": "x",
         "y": [
          1,
          0.6324259046967198,
          0.5047201782348482,
          0.5403656760801581,
          0.6794660753296237,
          0.8777349631846025,
          1.1046882509538785,
          1.341352522545585,
          1.577791901987863,
          1.8106659738013857,
          2.0408240378160456
         ],
         "yaxis": "y"
        },
        {
         "line": {
          "color": "green"
         },
         "mode": "lines",
         "name": "dec qcqp",
         "type": "scatter",
         "x": [
          0,
          1,
          2,
          3,
          4,
          5,
          6,
          7,
          8,
          9
         ],
         "xaxis": "x",
         "y": [
          1,
          0.6625382403884371,
          0.5940681333427954,
          0.6873660283594798,
          0.8521676745010037,
          1.0539141336704234,
          1.2698942027463114,
          1.4869998570139598,
          1.6994353894896737,
          1.9064883983291139,
          2.110398305120398
         ],
         "yaxis": "y"
        },
        {
         "line": {
          "color": "purple"
         },
         "mode": "lines",
         "name": "chordal sdp",
         "type": "scatter",
         "x": [
          0,
          1,
          2,
          3,
          4,
          5,
          6,
          7,
          8,
          9
         ],
         "xaxis": "x",
         "y": [
          0.9999999900020915,
          0.6324165574055994,
          0.5047336915192532,
          0.5403888667363371,
          0.6794886071524671,
          0.8777588737528528,
          1.1047157323271444,
          1.3413821872352252,
          1.577832411316042,
          2.0409103948713647
         ],
         "yaxis": "y"
        },
        {
         "line": {
          "color": "yellow"
         },
         "mode": "lines",
         "name": "dec qcqp warmstart",
         "type": "scatter",
         "x": [
          0,
          1,
          2,
          3,
          4,
          5,
          6,
          7,
          8,
          9
         ],
         "xaxis": "x",
         "y": [
          1,
          0.5042730957738532,
          0.1523688437120233,
          5.739718509874451e-42,
          2.8376293902577546e-44,
          0.15915367711962772,
          0.4131142375749746,
          0.716891419641564,
          1.0418619854260458,
          1.3724457166754889,
          1.7026999069449469
         ],
         "yaxis": "y"
        },
        {
         "line": {
          "color": "blue"
         },
         "mode": "lines",
         "name": "sdp",
         "type": "scatter",
         "x": [
          0,
          1,
          2,
          3,
          4,
          5,
          6,
          7,
          8,
          9
         ],
         "xaxis": "x2",
         "y": [
          -7,
          -3.6756768003232274,
          -1.2770787784516355,
          0.35653794300835234,
          1.3910364849577592,
          1.982724361937177,
          2.269569971533847,
          2.3666657045904667,
          2.364512305320179,
          2.3289506406427125,
          2.301841502757474
         ],
         "yaxis": "y2"
        },
        {
         "line": {
          "color": "red"
         },
         "mode": "lines",
         "name": "micp",
         "type": "scatter",
         "x": [
          0,
          1,
          2,
          3,
          4,
          5,
          6,
          7,
          8,
          9
         ],
         "xaxis": "x2",
         "y": [
          -7,
          -3.67574095302777,
          -1.2770572646149239,
          0.3564549784490113,
          1.3910039924936493,
          1.9826888785498444,
          2.2695328776921677,
          2.366642715922154,
          2.364393794414084,
          2.3287407181378206,
          2.301580640143121
         ],
         "yaxis": "y2"
        },
        {
         "line": {
          "color": "green"
         },
         "mode": "lines",
         "name": "dec qcqp",
         "type": "scatter",
         "x": [
          0,
          1,
          2,
          3,
          4,
          5,
          6,
          7,
          8,
          9
         ],
         "xaxis": "x2",
         "y": [
          -7,
          -3.3746175961156286,
          -0.6847010653341457,
          0.9329789501756841,
          1.648016461432402,
          2.0174645917107883,
          2.1598006907790652,
          2.1710565426936506,
          2.1243553247757316,
          2.0705300884139146,
          2.0390990679301946
         ],
         "yaxis": "y2"
        },
        {
         "line": {
          "color": "purple"
         },
         "mode": "lines",
         "name": "chordal sdp",
         "type": "scatter",
         "x": [
          0,
          1,
          2,
          3,
          4,
          5,
          6,
          7,
          8,
          9
         ],
         "xaxis": "x2",
         "y": [
          -6.999999929949735,
          -3.6758343268380234,
          -1.276828658469437,
          0.3565517520874555,
          1.3909974042574211,
          1.9827026662294955,
          2.269568585970339,
          2.366664549262644,
          2.364502240886695,
          2.301843383353855
         ],
         "yaxis": "y2"
        },
        {
         "line": {
          "color": "yellow"
         },
         "mode": "lines",
         "name": "dec qcqp warmstart",
         "type": "scatter",
         "x": [
          0,
          1,
          2,
          3,
          4,
          5,
          6,
          7,
          8,
          9
         ],
         "xaxis": "x2",
         "y": [
          -7,
          -4.957269042261469,
          -3.519042520618298,
          -1.523688437120233,
          3.1591410678348977e-37,
          1.591536771196277,
          2.5396056045534694,
          3.0377718206658937,
          3.2497056578448187,
          3.3058373124944307,
          3.302541902694579
         ],
         "yaxis": "y2"
        },
        {
         "line": {
          "color": "blue"
         },
         "mode": "lines",
         "name": "sdp",
         "type": "scatter",
         "x": [
          0,
          1,
          2,
          3,
          4,
          5,
          6,
          7,
          8,
          9
         ],
         "xaxis": "x3",
         "y": [
          7.426425179634573e-10,
          1.5216042426337013e-8,
          1.9442437776711137e-8,
          8.955568049193854e-9,
          4.8676421334594485e-9,
          3.9100806673491985e-9,
          3.0522016849730408e-9,
          2.648323277245638e-9,
          2.7536089787684095e-9,
          2.846024253299145e-9
         ],
         "yaxis": "y3"
        },
        {
         "line": {
          "color": "red"
         },
         "mode": "lines",
         "name": "micp",
         "type": "scatter",
         "x": [
          0,
          1,
          2,
          3,
          4,
          5,
          6,
          7,
          8,
          9
         ],
         "xaxis": "x3",
         "y": [
          0,
          0,
          0,
          0,
          0,
          0,
          0,
          0,
          0,
          0
         ],
         "yaxis": "y3"
        },
        {
         "line": {
          "color": "green"
         },
         "mode": "lines",
         "name": "dec qcqp",
         "type": "scatter",
         "x": [
          0,
          1,
          2,
          3,
          4,
          5,
          6,
          7,
          8,
          9
         ],
         "xaxis": "x3",
         "y": [
          14.814241294595758,
          10.479266810652707,
          4.651552487596323,
          1.2331556103016148e-7,
          9.231422117728395e-9,
          3.816275176919787e-9,
          2.222835380276136e-9,
          1.5714337066953473e-9,
          1.2726155281728935e-9,
          1.127020526656361e-9
         ],
         "yaxis": "y3"
        },
        {
         "line": {
          "color": "purple"
         },
         "mode": "lines",
         "name": "chordal sdp",
         "type": "scatter",
         "x": [
          0,
          1,
          2,
          3,
          4,
          5,
          6,
          7,
          8,
          9
         ],
         "xaxis": "x3",
         "y": [
          7.591569847018106e-7,
          0.00006397138755956182,
          0.00011852406440512142,
          0.00007091170899225772,
          0.00002924849198905207,
          0.000011790579935424999,
          0.000005782988819134945,
          0.000003519344037340355,
          0.0000026313714120215235
         ],
         "yaxis": "y3"
        },
        {
         "line": {
          "color": "yellow"
         },
         "mode": "lines",
         "name": "dec qcqp warmstart",
         "type": "scatter",
         "x": [
          0,
          1,
          2,
          3,
          4,
          5,
          6,
          7,
          8,
          9
         ],
         "xaxis": "x3",
         "y": [
          8.260079695871538e-43,
          5.96646611763301e-46,
          9.976770417169993,
          7.618442185268119,
          -2.6792826637890502e-42,
          -1.3530937971520434e-41,
          -1.6815581571897805e-43,
          2.724912445033627e-42,
          1.9195599432399486e-43,
          -1.294239261650401e-41
         ],
         "yaxis": "y3"
        },
        {
         "line": {
          "color": "blue"
         },
         "mode": "lines",
         "name": "sdp",
         "type": "scatter",
         "x": [
          0,
          1,
          2,
          3,
          4,
          5,
          6,
          7,
          8,
          9
         ],
         "xaxis": "x4",
         "y": [
          33.24323198985083,
          23.985980203515332,
          16.33616719515077,
          10.344985410536266,
          5.916878764923461,
          2.8684560920593785,
          0.9709573275108644,
          -0.021533995355132264,
          -0.35561664952946065,
          -0.27109138169449987
         ],
         "yaxis": "y4"
        },
        {
         "line": {
          "color": "red"
         },
         "mode": "lines",
         "name": "micp",
         "type": "scatter",
         "x": [
          0,
          1,
          2,
          3,
          4,
          5,
          6,
          7,
          8,
          9
         ],
         "xaxis": "x4",
         "y": [
          33.24259046999404,
          23.986836884120795,
          16.335122430636456,
          10.345490140443776,
          5.916848860562115,
          2.8684399914216496,
          0.9710983823108137,
          -0.02248921509601669,
          -0.3565307627587217,
          -0.27160077995142134
         ],
         "yaxis": "y4"
        },
        {
         "line": {
          "color": "green"
         },
         "mode": "lines",
         "name": "dec qcqp",
         "type": "scatter",
         "x": [
          0,
          1,
          2,
          3,
          4,
          5,
          6,
          7,
          8,
          9
         ],
         "xaxis": "x4",
         "y": [
          21.439582708631914,
          16.419898497067617,
          11.525247667459904,
          7.1503749892516195,
          3.694481293552438,
          1.4233609868665007,
          0.11255851692301869,
          -0.4670121807506248,
          -0.5382523648907916,
          -0.3143102059642206
         ],
         "yaxis": "y4"
        },
        {
         "line": {
          "color": "purple"
         },
         "mode": "lines",
         "name": "chordal sdp",
         "type": "scatter",
         "x": [
          0,
          1,
          2,
          3,
          4,
          5,
          6,
          7,
          8,
          9
         ],
         "xaxis": "x4",
         "y": [
          33.24165527196197,
          23.989992711981426,
          16.33368558150043,
          10.344385610039156,
          5.917023371272234,
          2.8686474068630368,
          0.9709538499341955,
          -0.02162660311276438,
          -0.35566051880794974
         ],
         "yaxis": "y4"
        },
        {
         "line": {
          "color": "yellow"
         },
         "mode": "lines",
         "name": "dec qcqp warmstart",
         "type": "scatter",
         "x": [
          0,
          1,
          2,
          3,
          4,
          5,
          6,
          7,
          8,
          9
         ],
         "xaxis": "x4",
         "y": [
          20.427309577385305,
          14.38226521643171,
          9.976770417810656,
          7.61844218593421,
          15.91536771196277,
          9.480688333571925,
          4.981662161124242,
          2.1193383717892496,
          0.5613165464961202,
          -0.03295409799851855
         ],
         "yaxis": "y4"
        },
        {
         "line": {
          "color": "blue"
         },
         "mode": "lines",
         "name": "sdp",
         "type": "scatter",
         "x": [
          0,
          1,
          2,
          3,
          4,
          5,
          6,
          7,
          8,
          9
         ],
         "xaxis": "x5",
         "y": [
          1.1756229830074957e-9,
          7.681940648074528e-9,
          1.0506999180519335e-8,
          6.085422342508902e-9,
          4.273319557616791e-9,
          4.320120213717687e-9,
          4.094594056912254e-9,
          4.179089281368363e-9,
          4.986189620382445e-9,
          5.809519641104032e-9
         ],
         "yaxis": "y5"
        },
        {
         "line": {
          "color": "red"
         },
         "mode": "lines",
         "name": "micp",
         "type": "scatter",
         "x": [
          0,
          1,
          2,
          3,
          4,
          5,
          6,
          7,
          8,
          9
         ],
         "xaxis": "x5",
         "y": [
          0,
          0,
          0,
          0,
          0,
          0,
          0,
          0,
          0,
          0
         ],
         "yaxis": "y5"
        },
        {
         "line": {
          "color": "green"
         },
         "mode": "lines",
         "name": "dec qcqp",
         "type": "scatter",
         "x": [
          0,
          1,
          2,
          3,
          4,
          5,
          6,
          7,
          8,
          9
         ],
         "xaxis": "x5",
         "y": [
          9.815001360011196,
          6.225398473005562,
          3.197319159104743,
          1.0508553487285931e-7,
          9.729126243751708e-9,
          4.8462657232550906e-9,
          3.305355892636185e-9,
          2.670550053395009e-9,
          2.426226739995099e-9,
          2.3784622092914824e-9
         ],
         "yaxis": "y5"
        },
        {
         "line": {
          "color": "purple"
         },
         "mode": "lines",
         "name": "chordal sdp",
         "type": "scatter",
         "x": [
          0,
          1,
          2,
          3,
          4,
          5,
          6,
          7,
          8,
          9
         ],
         "xaxis": "x5",
         "y": [
          4.801034467955344e-7,
          0.000032288514594546465,
          0.0000640490848448682,
          0.00004818369837395027,
          0.000025673123387279682,
          0.000013025239147924762,
          0.000007757198190968085,
          0.000005552935088687467,
          0.000005370393267562068
         ],
         "yaxis": "y5"
        },
        {
         "line": {
          "color": "yellow"
         },
         "mode": "lines",
         "name": "dec qcqp warmstart",
         "type": "scatter",
         "x": [
          0,
          1,
          2,
          3,
          4,
          5,
          6,
          7,
          8,
          9
         ],
         "xaxis": "x5",
         "y": [
          4.165335959575888e-43,
          9.091035433907065e-47,
          5.726385383219845e-41,
          2.1618315452896326e-43,
          -4.264176879848986e-43,
          -5.589823123778937e-42,
          -1.2054946145176339e-43,
          2.8389826900948758e-42,
          2.634491822001512e-43,
          -2.2037010703766346e-41
         ],
         "yaxis": "y5"
        },
        {
         "line": {
          "color": "blue"
         },
         "mode": "lines",
         "name": "sdp",
         "type": "scatter",
         "x": [
          0,
          1,
          2,
          3,
          4,
          5,
          6,
          7,
          8,
          9
         ],
         "xaxis": "x6",
         "y": [
          33.64993910594622,
          33.64993910594622,
          33.64993910594622,
          33.64993910594622,
          33.64993910594622,
          33.64993910594622,
          33.64993910594622,
          33.64993910594622,
          33.64993910594622,
          33.64993910594622,
          33.64993910594622
         ],
         "yaxis": "y6"
        },
        {
         "line": {
          "color": "red"
         },
         "mode": "lines",
         "name": "micp",
         "type": "scatter",
         "x": [
          0,
          1,
          2,
          3,
          4,
          5,
          6,
          7,
          8,
          9
         ],
         "xaxis": "x6",
         "y": [
          33.64993921817789,
          33.64993921817789,
          33.64993921817789,
          33.64993921817789,
          33.64993921817789,
          33.64993921817789,
          33.64993921817789,
          33.64993921817789,
          33.64993921817789,
          33.64993921817789,
          33.64993921817789
         ],
         "yaxis": "y6"
        },
        {
         "line": {
          "color": "green"
         },
         "mode": "lines",
         "name": "dec qcqp",
         "type": "scatter",
         "x": [
          0,
          1,
          2,
          3,
          4,
          5,
          6,
          7,
          8,
          9
         ],
         "xaxis": "x6",
         "y": [
          27.168949325959325,
          27.168949325959325,
          27.168949325959325,
          27.168949325959325,
          27.168949325959325,
          27.168949325959325,
          27.168949325959325,
          27.168949325959325,
          27.168949325959325,
          27.168949325959325,
          27.168949325959325
         ],
         "yaxis": "y6"
        },
        {
         "line": {
          "color": "purple"
         },
         "mode": "lines",
         "name": "chordal sdp",
         "type": "scatter",
         "x": [
          0,
          1,
          2,
          3,
          4,
          5,
          6,
          7,
          8,
          9
         ],
         "xaxis": "x6",
         "y": [
          33.64995931467382,
          33.64995931467382,
          33.64995931467382,
          33.64995931467382,
          33.64995931467382,
          33.64995931467382,
          33.64995931467382,
          33.64995931467382,
          33.64995931467382,
          33.64995931467382
         ],
         "yaxis": "y6"
        },
        {
         "line": {
          "color": "yellow"
         },
         "mode": "lines",
         "name": "dec qcqp warmstart",
         "type": "scatter",
         "x": [
          0,
          1,
          2,
          3,
          4,
          5,
          6,
          7,
          8,
          9
         ],
         "xaxis": "x6",
         "y": [
          38.114181484118554,
          38.114181484118554,
          38.114181484118554,
          38.114181484118554,
          38.114181484118554,
          38.114181484118554,
          38.114181484118554,
          38.114181484118554,
          38.114181484118554,
          38.114181484118554,
          38.114181484118554
         ],
         "yaxis": "y6"
        }
       ],
       "layout": {
        "height": 1200,
        "template": {
         "data": {
          "bar": [
           {
            "error_x": {
             "color": "#2a3f5f"
            },
            "error_y": {
             "color": "#2a3f5f"
            },
            "marker": {
             "line": {
              "color": "#E5ECF6",
              "width": 0.5
             },
             "pattern": {
              "fillmode": "overlay",
              "size": 10,
              "solidity": 0.2
             }
            },
            "type": "bar"
           }
          ],
          "barpolar": [
           {
            "marker": {
             "line": {
              "color": "#E5ECF6",
              "width": 0.5
             },
             "pattern": {
              "fillmode": "overlay",
              "size": 10,
              "solidity": 0.2
             }
            },
            "type": "barpolar"
           }
          ],
          "carpet": [
           {
            "aaxis": {
             "endlinecolor": "#2a3f5f",
             "gridcolor": "white",
             "linecolor": "white",
             "minorgridcolor": "white",
             "startlinecolor": "#2a3f5f"
            },
            "baxis": {
             "endlinecolor": "#2a3f5f",
             "gridcolor": "white",
             "linecolor": "white",
             "minorgridcolor": "white",
             "startlinecolor": "#2a3f5f"
            },
            "type": "carpet"
           }
          ],
          "choropleth": [
           {
            "colorbar": {
             "outlinewidth": 0,
             "ticks": ""
            },
            "type": "choropleth"
           }
          ],
          "contour": [
           {
            "colorbar": {
             "outlinewidth": 0,
             "ticks": ""
            },
            "colorscale": [
             [
              0,
              "#0d0887"
             ],
             [
              0.1111111111111111,
              "#46039f"
             ],
             [
              0.2222222222222222,
              "#7201a8"
             ],
             [
              0.3333333333333333,
              "#9c179e"
             ],
             [
              0.4444444444444444,
              "#bd3786"
             ],
             [
              0.5555555555555556,
              "#d8576b"
             ],
             [
              0.6666666666666666,
              "#ed7953"
             ],
             [
              0.7777777777777778,
              "#fb9f3a"
             ],
             [
              0.8888888888888888,
              "#fdca26"
             ],
             [
              1,
              "#f0f921"
             ]
            ],
            "type": "contour"
           }
          ],
          "contourcarpet": [
           {
            "colorbar": {
             "outlinewidth": 0,
             "ticks": ""
            },
            "type": "contourcarpet"
           }
          ],
          "heatmap": [
           {
            "colorbar": {
             "outlinewidth": 0,
             "ticks": ""
            },
            "colorscale": [
             [
              0,
              "#0d0887"
             ],
             [
              0.1111111111111111,
              "#46039f"
             ],
             [
              0.2222222222222222,
              "#7201a8"
             ],
             [
              0.3333333333333333,
              "#9c179e"
             ],
             [
              0.4444444444444444,
              "#bd3786"
             ],
             [
              0.5555555555555556,
              "#d8576b"
             ],
             [
              0.6666666666666666,
              "#ed7953"
             ],
             [
              0.7777777777777778,
              "#fb9f3a"
             ],
             [
              0.8888888888888888,
              "#fdca26"
             ],
             [
              1,
              "#f0f921"
             ]
            ],
            "type": "heatmap"
           }
          ],
          "heatmapgl": [
           {
            "colorbar": {
             "outlinewidth": 0,
             "ticks": ""
            },
            "colorscale": [
             [
              0,
              "#0d0887"
             ],
             [
              0.1111111111111111,
              "#46039f"
             ],
             [
              0.2222222222222222,
              "#7201a8"
             ],
             [
              0.3333333333333333,
              "#9c179e"
             ],
             [
              0.4444444444444444,
              "#bd3786"
             ],
             [
              0.5555555555555556,
              "#d8576b"
             ],
             [
              0.6666666666666666,
              "#ed7953"
             ],
             [
              0.7777777777777778,
              "#fb9f3a"
             ],
             [
              0.8888888888888888,
              "#fdca26"
             ],
             [
              1,
              "#f0f921"
             ]
            ],
            "type": "heatmapgl"
           }
          ],
          "histogram": [
           {
            "marker": {
             "pattern": {
              "fillmode": "overlay",
              "size": 10,
              "solidity": 0.2
             }
            },
            "type": "histogram"
           }
          ],
          "histogram2d": [
           {
            "colorbar": {
             "outlinewidth": 0,
             "ticks": ""
            },
            "colorscale": [
             [
              0,
              "#0d0887"
             ],
             [
              0.1111111111111111,
              "#46039f"
             ],
             [
              0.2222222222222222,
              "#7201a8"
             ],
             [
              0.3333333333333333,
              "#9c179e"
             ],
             [
              0.4444444444444444,
              "#bd3786"
             ],
             [
              0.5555555555555556,
              "#d8576b"
             ],
             [
              0.6666666666666666,
              "#ed7953"
             ],
             [
              0.7777777777777778,
              "#fb9f3a"
             ],
             [
              0.8888888888888888,
              "#fdca26"
             ],
             [
              1,
              "#f0f921"
             ]
            ],
            "type": "histogram2d"
           }
          ],
          "histogram2dcontour": [
           {
            "colorbar": {
             "outlinewidth": 0,
             "ticks": ""
            },
            "colorscale": [
             [
              0,
              "#0d0887"
             ],
             [
              0.1111111111111111,
              "#46039f"
             ],
             [
              0.2222222222222222,
              "#7201a8"
             ],
             [
              0.3333333333333333,
              "#9c179e"
             ],
             [
              0.4444444444444444,
              "#bd3786"
             ],
             [
              0.5555555555555556,
              "#d8576b"
             ],
             [
              0.6666666666666666,
              "#ed7953"
             ],
             [
              0.7777777777777778,
              "#fb9f3a"
             ],
             [
              0.8888888888888888,
              "#fdca26"
             ],
             [
              1,
              "#f0f921"
             ]
            ],
            "type": "histogram2dcontour"
           }
          ],
          "mesh3d": [
           {
            "colorbar": {
             "outlinewidth": 0,
             "ticks": ""
            },
            "type": "mesh3d"
           }
          ],
          "parcoords": [
           {
            "line": {
             "colorbar": {
              "outlinewidth": 0,
              "ticks": ""
             }
            },
            "type": "parcoords"
           }
          ],
          "pie": [
           {
            "automargin": true,
            "type": "pie"
           }
          ],
          "scatter": [
           {
            "fillpattern": {
             "fillmode": "overlay",
             "size": 10,
             "solidity": 0.2
            },
            "type": "scatter"
           }
          ],
          "scatter3d": [
           {
            "line": {
             "colorbar": {
              "outlinewidth": 0,
              "ticks": ""
             }
            },
            "marker": {
             "colorbar": {
              "outlinewidth": 0,
              "ticks": ""
             }
            },
            "type": "scatter3d"
           }
          ],
          "scattercarpet": [
           {
            "marker": {
             "colorbar": {
              "outlinewidth": 0,
              "ticks": ""
             }
            },
            "type": "scattercarpet"
           }
          ],
          "scattergeo": [
           {
            "marker": {
             "colorbar": {
              "outlinewidth": 0,
              "ticks": ""
             }
            },
            "type": "scattergeo"
           }
          ],
          "scattergl": [
           {
            "marker": {
             "colorbar": {
              "outlinewidth": 0,
              "ticks": ""
             }
            },
            "type": "scattergl"
           }
          ],
          "scattermapbox": [
           {
            "marker": {
             "colorbar": {
              "outlinewidth": 0,
              "ticks": ""
             }
            },
            "type": "scattermapbox"
           }
          ],
          "scatterpolar": [
           {
            "marker": {
             "colorbar": {
              "outlinewidth": 0,
              "ticks": ""
             }
            },
            "type": "scatterpolar"
           }
          ],
          "scatterpolargl": [
           {
            "marker": {
             "colorbar": {
              "outlinewidth": 0,
              "ticks": ""
             }
            },
            "type": "scatterpolargl"
           }
          ],
          "scatterternary": [
           {
            "marker": {
             "colorbar": {
              "outlinewidth": 0,
              "ticks": ""
             }
            },
            "type": "scatterternary"
           }
          ],
          "surface": [
           {
            "colorbar": {
             "outlinewidth": 0,
             "ticks": ""
            },
            "colorscale": [
             [
              0,
              "#0d0887"
             ],
             [
              0.1111111111111111,
              "#46039f"
             ],
             [
              0.2222222222222222,
              "#7201a8"
             ],
             [
              0.3333333333333333,
              "#9c179e"
             ],
             [
              0.4444444444444444,
              "#bd3786"
             ],
             [
              0.5555555555555556,
              "#d8576b"
             ],
             [
              0.6666666666666666,
              "#ed7953"
             ],
             [
              0.7777777777777778,
              "#fb9f3a"
             ],
             [
              0.8888888888888888,
              "#fdca26"
             ],
             [
              1,
              "#f0f921"
             ]
            ],
            "type": "surface"
           }
          ],
          "table": [
           {
            "cells": {
             "fill": {
              "color": "#EBF0F8"
             },
             "line": {
              "color": "white"
             }
            },
            "header": {
             "fill": {
              "color": "#C8D4E3"
             },
             "line": {
              "color": "white"
             }
            },
            "type": "table"
           }
          ]
         },
         "layout": {
          "annotationdefaults": {
           "arrowcolor": "#2a3f5f",
           "arrowhead": 0,
           "arrowwidth": 1
          },
          "autotypenumbers": "strict",
          "coloraxis": {
           "colorbar": {
            "outlinewidth": 0,
            "ticks": ""
           }
          },
          "colorscale": {
           "diverging": [
            [
             0,
             "#8e0152"
            ],
            [
             0.1,
             "#c51b7d"
            ],
            [
             0.2,
             "#de77ae"
            ],
            [
             0.3,
             "#f1b6da"
            ],
            [
             0.4,
             "#fde0ef"
            ],
            [
             0.5,
             "#f7f7f7"
            ],
            [
             0.6,
             "#e6f5d0"
            ],
            [
             0.7,
             "#b8e186"
            ],
            [
             0.8,
             "#7fbc41"
            ],
            [
             0.9,
             "#4d9221"
            ],
            [
             1,
             "#276419"
            ]
           ],
           "sequential": [
            [
             0,
             "#0d0887"
            ],
            [
             0.1111111111111111,
             "#46039f"
            ],
            [
             0.2222222222222222,
             "#7201a8"
            ],
            [
             0.3333333333333333,
             "#9c179e"
            ],
            [
             0.4444444444444444,
             "#bd3786"
            ],
            [
             0.5555555555555556,
             "#d8576b"
            ],
            [
             0.6666666666666666,
             "#ed7953"
            ],
            [
             0.7777777777777778,
             "#fb9f3a"
            ],
            [
             0.8888888888888888,
             "#fdca26"
            ],
            [
             1,
             "#f0f921"
            ]
           ],
           "sequentialminus": [
            [
             0,
             "#0d0887"
            ],
            [
             0.1111111111111111,
             "#46039f"
            ],
            [
             0.2222222222222222,
             "#7201a8"
            ],
            [
             0.3333333333333333,
             "#9c179e"
            ],
            [
             0.4444444444444444,
             "#bd3786"
            ],
            [
             0.5555555555555556,
             "#d8576b"
            ],
            [
             0.6666666666666666,
             "#ed7953"
            ],
            [
             0.7777777777777778,
             "#fb9f3a"
            ],
            [
             0.8888888888888888,
             "#fdca26"
            ],
            [
             1,
             "#f0f921"
            ]
           ]
          },
          "colorway": [
           "#636efa",
           "#EF553B",
           "#00cc96",
           "#ab63fa",
           "#FFA15A",
           "#19d3f3",
           "#FF6692",
           "#B6E880",
           "#FF97FF",
           "#FECB52"
          ],
          "font": {
           "color": "#2a3f5f"
          },
          "geo": {
           "bgcolor": "white",
           "lakecolor": "white",
           "landcolor": "#E5ECF6",
           "showlakes": true,
           "showland": true,
           "subunitcolor": "white"
          },
          "hoverlabel": {
           "align": "left"
          },
          "hovermode": "closest",
          "mapbox": {
           "style": "light"
          },
          "paper_bgcolor": "white",
          "plot_bgcolor": "#E5ECF6",
          "polar": {
           "angularaxis": {
            "gridcolor": "white",
            "linecolor": "white",
            "ticks": ""
           },
           "bgcolor": "#E5ECF6",
           "radialaxis": {
            "gridcolor": "white",
            "linecolor": "white",
            "ticks": ""
           }
          },
          "scene": {
           "xaxis": {
            "backgroundcolor": "#E5ECF6",
            "gridcolor": "white",
            "gridwidth": 2,
            "linecolor": "white",
            "showbackground": true,
            "ticks": "",
            "zerolinecolor": "white"
           },
           "yaxis": {
            "backgroundcolor": "#E5ECF6",
            "gridcolor": "white",
            "gridwidth": 2,
            "linecolor": "white",
            "showbackground": true,
            "ticks": "",
            "zerolinecolor": "white"
           },
           "zaxis": {
            "backgroundcolor": "#E5ECF6",
            "gridcolor": "white",
            "gridwidth": 2,
            "linecolor": "white",
            "showbackground": true,
            "ticks": "",
            "zerolinecolor": "white"
           }
          },
          "shapedefaults": {
           "line": {
            "color": "#2a3f5f"
           }
          },
          "ternary": {
           "aaxis": {
            "gridcolor": "white",
            "linecolor": "white",
            "ticks": ""
           },
           "baxis": {
            "gridcolor": "white",
            "linecolor": "white",
            "ticks": ""
           },
           "bgcolor": "#E5ECF6",
           "caxis": {
            "gridcolor": "white",
            "linecolor": "white",
            "ticks": ""
           }
          },
          "title": {
           "x": 0.05
          },
          "xaxis": {
           "automargin": true,
           "gridcolor": "white",
           "linecolor": "white",
           "ticks": "",
           "title": {
            "standoff": 15
           },
           "zerolinecolor": "white",
           "zerolinewidth": 2
          },
          "yaxis": {
           "automargin": true,
           "gridcolor": "white",
           "linecolor": "white",
           "ticks": "",
           "title": {
            "standoff": 15
           },
           "zerolinecolor": "white",
           "zerolinewidth": 2
          }
         }
        },
        "title": {
         "text": "Solver Comparisons"
        },
        "width": 800,
        "xaxis": {
         "anchor": "y",
         "domain": [
          0,
          1
         ]
        },
        "xaxis2": {
         "anchor": "y2",
         "domain": [
          0,
          1
         ]
        },
        "xaxis3": {
         "anchor": "y3",
         "domain": [
          0,
          1
         ]
        },
        "xaxis4": {
         "anchor": "y4",
         "domain": [
          0,
          1
         ]
        },
        "xaxis5": {
         "anchor": "y5",
         "domain": [
          0,
          1
         ]
        },
        "xaxis6": {
         "anchor": "y6",
         "domain": [
          0,
          1
         ]
        },
        "yaxis": {
         "anchor": "x",
         "domain": [
          0.875,
          1
         ],
         "title": {
          "text": "Position"
         }
        },
        "yaxis2": {
         "anchor": "x2",
         "domain": [
          0.7,
          0.825
         ],
         "title": {
          "text": "Velocity"
         }
        },
        "yaxis3": {
         "anchor": "x3",
         "domain": [
          0.525,
          0.65
         ],
         "title": {
          "text": "Normal Force"
         }
        },
        "yaxis4": {
         "anchor": "x4",
         "domain": [
          0.35,
          0.475
         ],
         "title": {
          "text": "Control"
         }
        },
        "yaxis5": {
         "anchor": "x5",
         "domain": [
          0.175,
          0.3
         ],
         "title": {
          "text": "LCP violation"
         }
        },
        "yaxis6": {
         "anchor": "x6",
         "domain": [
          0,
          0.125
         ],
         "title": {
          "text": "Cost"
         }
        }
       }
      }
     },
     "metadata": {},
     "output_type": "display_data"
    }
   ],
   "source": [
    "make_plots(0.1)"
   ]
  },
  {
   "cell_type": "code",
   "execution_count": 5,
   "metadata": {},
   "outputs": [
    {
     "name": "stderr",
     "output_type": "stream",
     "text": [
      "INFO:drake:Solved GCS shortest path using Mosek with convex_relaxation=true and preprocessing=false and rounding.\n",
      "INFO:drake:Finished 100 rounding trials.\n",
      "INFO:drake:Solved GCS shortest path using Gurobi with convex_relaxation=false and preprocessing=false and no rounding.\n",
      "INFO:drake:Solved GCS shortest path using Mosek with convex_relaxation=true and preprocessing=false and rounding.\n",
      "INFO:drake:Finished 100 rounding trials.\n",
      "INFO:drake:Solved GCS shortest path using Gurobi with convex_relaxation=false and preprocessing=false and no rounding.\n",
      "INFO:drake:Solved GCS shortest path using Mosek with convex_relaxation=true and preprocessing=false and rounding.\n",
      "INFO:drake:Finished 100 rounding trials.\n",
      "INFO:drake:Solved GCS shortest path using Gurobi with convex_relaxation=false and preprocessing=false and no rounding.\n",
      "INFO:drake:Solved GCS shortest path using Mosek with convex_relaxation=true and preprocessing=false and rounding.\n",
      "INFO:drake:Finished 100 rounding trials.\n",
      "INFO:drake:Solved GCS shortest path using Gurobi with convex_relaxation=false and preprocessing=false and no rounding.\n",
      "INFO:drake:Solved GCS shortest path using Mosek with convex_relaxation=true and preprocessing=false and rounding.\n",
      "INFO:drake:Finished 100 rounding trials.\n",
      "INFO:drake:Solved GCS shortest path using Gurobi with convex_relaxation=false and preprocessing=false and no rounding.\n",
      "INFO:drake:Solved GCS shortest path using Mosek with convex_relaxation=true and preprocessing=false and rounding.\n",
      "INFO:drake:Finished 100 rounding trials.\n",
      "INFO:drake:Solved GCS shortest path using Gurobi with convex_relaxation=false and preprocessing=false and no rounding.\n",
      "INFO:drake:Solved GCS shortest path using Mosek with convex_relaxation=true and preprocessing=false and rounding.\n",
      "INFO:drake:Finished 100 rounding trials.\n",
      "INFO:drake:Solved GCS shortest path using Gurobi with convex_relaxation=false and preprocessing=false and no rounding.\n",
      "INFO:drake:Solved GCS shortest path using Mosek with convex_relaxation=true and preprocessing=false and rounding.\n",
      "INFO:drake:Finished 100 rounding trials.\n",
      "INFO:drake:Solved GCS shortest path using Gurobi with convex_relaxation=false and preprocessing=false and no rounding.\n",
      "INFO:drake:Solved GCS shortest path using Mosek with convex_relaxation=true and preprocessing=false and rounding.\n",
      "INFO:drake:Finished 100 rounding trials.\n",
      "INFO:drake:Solved GCS shortest path using Gurobi with convex_relaxation=false and preprocessing=false and no rounding.\n",
      "INFO:drake:Solved GCS shortest path using Mosek with convex_relaxation=true and preprocessing=false and rounding.\n",
      "INFO:drake:Finished 100 rounding trials.\n",
      "INFO:drake:Solved GCS shortest path using Gurobi with convex_relaxation=false and preprocessing=false and no rounding.\n",
      "INFO:drake:Solved GCS shortest path using Mosek with convex_relaxation=true and preprocessing=false and rounding.\n",
      "INFO:drake:Finished 100 rounding trials.\n",
      "INFO:drake:Solved GCS shortest path using Gurobi with convex_relaxation=false and preprocessing=false and no rounding.\n",
      "INFO:drake:Solved GCS shortest path using Mosek with convex_relaxation=true and preprocessing=false and rounding.\n",
      "INFO:drake:Finished 100 rounding trials.\n",
      "INFO:drake:Solved GCS shortest path using Gurobi with convex_relaxation=false and preprocessing=false and no rounding.\n",
      "INFO:drake:Solved GCS shortest path using Mosek with convex_relaxation=true and preprocessing=false and rounding.\n",
      "INFO:drake:Finished 100 rounding trials.\n",
      "INFO:drake:Solved GCS shortest path using Gurobi with convex_relaxation=false and preprocessing=false and no rounding.\n",
      "INFO:drake:Solved GCS shortest path using Mosek with convex_relaxation=true and preprocessing=false and rounding.\n",
      "INFO:drake:Finished 100 rounding trials.\n",
      "INFO:drake:Solved GCS shortest path using Gurobi with convex_relaxation=false and preprocessing=false and no rounding.\n",
      "INFO:drake:Solved GCS shortest path using Mosek with convex_relaxation=true and preprocessing=false and rounding.\n",
      "INFO:drake:Finished 100 rounding trials.\n",
      "INFO:drake:Solved GCS shortest path using Gurobi with convex_relaxation=false and preprocessing=false and no rounding.\n",
      "INFO:drake:Solved GCS shortest path using Mosek with convex_relaxation=true and preprocessing=false and rounding.\n",
      "INFO:drake:Finished 100 rounding trials.\n",
      "INFO:drake:Solved GCS shortest path using Gurobi with convex_relaxation=false and preprocessing=false and no rounding.\n",
      "INFO:drake:Solved GCS shortest path using Mosek with convex_relaxation=true and preprocessing=false and rounding.\n",
      "INFO:drake:Finished 100 rounding trials.\n",
      "INFO:drake:Solved GCS shortest path using Gurobi with convex_relaxation=false and preprocessing=false and no rounding.\n",
      "INFO:drake:Solved GCS shortest path using Mosek with convex_relaxation=true and preprocessing=false and rounding.\n",
      "INFO:drake:Finished 100 rounding trials.\n",
      "INFO:drake:Solved GCS shortest path using Gurobi with convex_relaxation=false and preprocessing=false and no rounding.\n",
      "INFO:drake:Solved GCS shortest path using Mosek with convex_relaxation=true and preprocessing=false and rounding.\n",
      "INFO:drake:Finished 100 rounding trials.\n",
      "INFO:drake:Solved GCS shortest path using Gurobi with convex_relaxation=false and preprocessing=false and no rounding.\n",
      "INFO:drake:Solved GCS shortest path using Mosek with convex_relaxation=true and preprocessing=false and rounding.\n",
      "INFO:drake:Finished 100 rounding trials.\n",
      "INFO:drake:Solved GCS shortest path using Gurobi with convex_relaxation=false and preprocessing=false and no rounding.\n",
      "INFO:drake:Solved GCS shortest path using Mosek with convex_relaxation=true and preprocessing=false and rounding.\n",
      "INFO:drake:Finished 100 rounding trials.\n",
      "INFO:drake:Solved GCS shortest path using Gurobi with convex_relaxation=false and preprocessing=false and no rounding.\n",
      "INFO:drake:Solved GCS shortest path using Mosek with convex_relaxation=true and preprocessing=false and rounding.\n",
      "INFO:drake:Finished 100 rounding trials.\n",
      "INFO:drake:Solved GCS shortest path using Gurobi with convex_relaxation=false and preprocessing=false and no rounding.\n",
      "INFO:drake:Solved GCS shortest path using Mosek with convex_relaxation=true and preprocessing=false and rounding.\n",
      "INFO:drake:Finished 100 rounding trials.\n",
      "INFO:drake:Solved GCS shortest path using Gurobi with convex_relaxation=false and preprocessing=false and no rounding.\n",
      "INFO:drake:Solved GCS shortest path using Mosek with convex_relaxation=true and preprocessing=false and rounding.\n",
      "INFO:drake:Finished 100 rounding trials.\n",
      "INFO:drake:Solved GCS shortest path using Gurobi with convex_relaxation=false and preprocessing=false and no rounding.\n",
      "INFO:drake:Solved GCS shortest path using Mosek with convex_relaxation=true and preprocessing=false and rounding.\n",
      "INFO:drake:Finished 100 rounding trials.\n",
      "INFO:drake:Solved GCS shortest path using Gurobi with convex_relaxation=false and preprocessing=false and no rounding.\n",
      "INFO:drake:Solved GCS shortest path using Mosek with convex_relaxation=true and preprocessing=false and rounding.\n",
      "INFO:drake:Finished 100 rounding trials.\n",
      "INFO:drake:Solved GCS shortest path using Gurobi with convex_relaxation=false and preprocessing=false and no rounding.\n",
      "INFO:drake:Solved GCS shortest path using Mosek with convex_relaxation=true and preprocessing=false and rounding.\n",
      "INFO:drake:Finished 100 rounding trials.\n",
      "INFO:drake:Solved GCS shortest path using Gurobi with convex_relaxation=false and preprocessing=false and no rounding.\n",
      "INFO:drake:Solved GCS shortest path using Mosek with convex_relaxation=true and preprocessing=false and rounding.\n",
      "INFO:drake:Finished 100 rounding trials.\n",
      "INFO:drake:Solved GCS shortest path using Gurobi with convex_relaxation=false and preprocessing=false and no rounding.\n",
      "INFO:drake:Solved GCS shortest path using Mosek with convex_relaxation=true and preprocessing=false and rounding.\n",
      "INFO:drake:Finished 100 rounding trials.\n",
      "INFO:drake:Solved GCS shortest path using Gurobi with convex_relaxation=false and preprocessing=false and no rounding.\n",
      "INFO:drake:Solved GCS shortest path using Mosek with convex_relaxation=true and preprocessing=false and rounding.\n",
      "INFO:drake:Finished 100 rounding trials.\n",
      "INFO:drake:Solved GCS shortest path using Gurobi with convex_relaxation=false and preprocessing=false and no rounding.\n"
     ]
    },
    {
     "name": "stdout",
     "output_type": "stream",
     "text": [
      "SDP 0.9375290100800178 1.000491728983575\n",
      "QCQP IPOPT 0.9999975290939488 1.146434622407941\n",
      "[1.0000012216252459, 0.9999996470015032, 0.999999887915264, 1.0000000256295956, 0.9999989161333601, 0.9999993183169378, 0.9999975290939488, 1.0000018106500839, 1.146434622407941, 0.9999999363647044, 1.0000001168629653, 1.0000015960300739, 1.027715661093529, 0.9999984367241406, 0.9999997327808093, 1.0004756365275784, 0.9999983827115138, 0.9999982895503531, 0.9999998669590758, 0.9999999418463766, 0.9999997757936923, 0.9999999613450412, 0.9999999022404111, 0.9999999107239123, 0.9999998935822574, 0.9999999522195178, 0.9999997689771133, 0.9999999008746869, 0.9999999475209926, 0.9999999950502386]\n"
     ]
    }
   ],
   "source": [
    "def run_a_test_for_suboptimality_gap(Qx=1,Rf=0.01):\n",
    "    sdp_violations = []\n",
    "    qcqp_violations = []\n",
    "    for v0 in range(-15, 15):\n",
    "        cart = ContactCart(v0=v0, qcqp_scaling_factor = 0.01, verbose = False, Qx =Qx, Rf=Rf, umax=50)\n",
    "\n",
    "        chordal_sdp_cost, _, _, _, _, _ = cart.solve_chordal_nonconvex_qcqp_sdp_relaxation()\n",
    "        micp_cost, _, _, _, _, _ = cart.solve_micp_with_gcs()\n",
    "        qcqp_ipopt_cost, _, _, _, _, _ = cart.solve_our_qcqp_convex_diff_decomposition_with_warmstart()\n",
    "        sdp_violations.append(chordal_sdp_cost/micp_cost)\n",
    "        qcqp_violations.append(qcqp_ipopt_cost/micp_cost)\n",
    "\n",
    "    print(\"SDP\", np.min(sdp_violations), np.max(sdp_violations))\n",
    "    print(\"QCQP IPOPT\", np.min(qcqp_violations), np.max(qcqp_violations))\n",
    "    print(qcqp_violations)\n",
    "\n",
    "run_a_test_for_suboptimality_gap(0.001)"
   ]
  },
  {
   "cell_type": "code",
   "execution_count": null,
   "metadata": {},
   "outputs": [],
   "source": []
  },
  {
   "cell_type": "code",
   "execution_count": null,
   "metadata": {},
   "outputs": [],
   "source": []
  },
  {
   "cell_type": "code",
   "execution_count": 22,
   "metadata": {},
   "outputs": [
    {
     "name": "stderr",
     "output_type": "stream",
     "text": [
      "INFO:drake:Solved GCS shortest path using Gurobi with convex_relaxation=false and preprocessing=false and no rounding.\n",
      "INFO:drake:Solved GCS shortest path using Gurobi with convex_relaxation=false and preprocessing=false and no rounding.\n",
      "INFO:drake:Solved GCS shortest path using Gurobi with convex_relaxation=false and preprocessing=false and no rounding.\n",
      "INFO:drake:Solved GCS shortest path using Gurobi with convex_relaxation=false and preprocessing=false and no rounding.\n",
      "INFO:drake:Solved GCS shortest path using Gurobi with convex_relaxation=false and preprocessing=false and no rounding.\n",
      "INFO:drake:Solved GCS shortest path using Gurobi with convex_relaxation=false and preprocessing=false and no rounding.\n",
      "INFO:drake:Solved GCS shortest path using Gurobi with convex_relaxation=false and preprocessing=false and no rounding.\n",
      "INFO:drake:Solved GCS shortest path using Gurobi with convex_relaxation=false and preprocessing=false and no rounding.\n",
      "INFO:drake:Solved GCS shortest path using Gurobi with convex_relaxation=false and preprocessing=false and no rounding.\n",
      "INFO:drake:Solved GCS shortest path using Gurobi with convex_relaxation=false and preprocessing=false and no rounding.\n",
      "INFO:drake:Solved GCS shortest path using Gurobi with convex_relaxation=false and preprocessing=false and no rounding.\n",
      "INFO:drake:Solved GCS shortest path using Gurobi with convex_relaxation=false and preprocessing=false and no rounding.\n",
      "INFO:drake:Solved GCS shortest path using Gurobi with convex_relaxation=false and preprocessing=false and no rounding.\n",
      "INFO:drake:Solved GCS shortest path using Gurobi with convex_relaxation=false and preprocessing=false and no rounding.\n",
      "INFO:drake:Solved GCS shortest path using Gurobi with convex_relaxation=false and preprocessing=false and no rounding.\n",
      "INFO:drake:Solved GCS shortest path using Gurobi with convex_relaxation=false and preprocessing=false and no rounding.\n",
      "INFO:drake:Solved GCS shortest path using Gurobi with convex_relaxation=false and preprocessing=false and no rounding.\n",
      "INFO:drake:Solved GCS shortest path using Gurobi with convex_relaxation=false and preprocessing=false and no rounding.\n",
      "INFO:drake:Solved GCS shortest path using Gurobi with convex_relaxation=false and preprocessing=false and no rounding.\n",
      "INFO:drake:Solved GCS shortest path using Gurobi with convex_relaxation=false and preprocessing=false and no rounding.\n",
      "INFO:drake:Solved GCS shortest path using Gurobi with convex_relaxation=false and preprocessing=false and no rounding.\n",
      "INFO:drake:Solved GCS shortest path using Gurobi with convex_relaxation=false and preprocessing=false and no rounding.\n",
      "INFO:drake:Solved GCS shortest path using Gurobi with convex_relaxation=false and preprocessing=false and no rounding.\n",
      "INFO:drake:Solved GCS shortest path using Gurobi with convex_relaxation=false and preprocessing=false and no rounding.\n",
      "INFO:drake:Solved GCS shortest path using Gurobi with convex_relaxation=false and preprocessing=false and no rounding.\n",
      "INFO:drake:Solved GCS shortest path using Gurobi with convex_relaxation=false and preprocessing=false and no rounding.\n",
      "INFO:drake:Solved GCS shortest path using Gurobi with convex_relaxation=false and preprocessing=false and no rounding.\n",
      "INFO:drake:Solved GCS shortest path using Gurobi with convex_relaxation=false and preprocessing=false and no rounding.\n",
      "INFO:drake:Solved GCS shortest path using Gurobi with convex_relaxation=false and preprocessing=false and no rounding.\n",
      "INFO:drake:Solved GCS shortest path using Gurobi with convex_relaxation=false and preprocessing=false and no rounding.\n"
     ]
    },
    {
     "name": "stdout",
     "output_type": "stream",
     "text": [
      "[0.5068239586429778, 0.6135436680344605, 0.7363168410681461, 0.8615047199932495, 0.9610163364920047, 1.0000029016673078, 1.0000010377943793, 0.9999999562211773, 0.9999999270282791, 1.0000000510387386, 0.999999872353953, 1.0000001394975055, 1.000000193248796, 0.9999998013613419, 1.000003282502361, 1.0000001634685214, 1.00000024169303, 1.000013463890352, 0.999998175248415, 0.9999998157731375, 1.000000053263569, 1.000000626195406, 1.0000001666886862, 1.0000001745222131, 0.9999996674530701, 1.000001331859278, 1.0000006629701725, 0.9999999993608861, 1.0000000214951215, 0.9999999984458244]\n",
      "[1.2760756320977045, 1.404298542406176, 1.528804749881515, 1.5964030663188307, 1.5760289970785242, 1.4378695009136147, 1.1982000912719815, 0.9614953433113059, 0.826732018842995, 0.6990966423357222, 0.6797235598403361, 0.7057165564016639, 0.7403210082344631, 0.7864153739760515, 0.8480603137994767, 0.9218835796919465, 0.9869413518579323, 1.0034561308323813, 1.0033150993389344, 1.0026436281445228, 1.0019692845740396, 1.0014679642059947, 1.0011252494479577, 1.0008885701435433, 1.000721765934513, 1.0006012059311344, 1.0005114616992772, 1.0004427589304712, 1.000389050259219, 1.000346240263633]\n"
     ]
    }
   ],
   "source": [
    "def run_a_test_for_relaxation_gap():\n",
    "    sdp_violations = []\n",
    "    qcqp_violations = []\n",
    "    for v0 in range(-15, 15):\n",
    "        cart = ContactCart(v0=v0, qcqp_scaling_factor = 0.01, verbose = False,umax=60)\n",
    "\n",
    "        x_trajs = []\n",
    "        v_trajs = []\n",
    "        f_trajs = []\n",
    "        u_trajs = []\n",
    "        lcp_trajs = []\n",
    "        cost_trajs = []\n",
    "\n",
    "        colors = {\"micp\": \"red\", \"sdp\":\"blue\", \"qcqp\":\"green\", \"ipopt\" : \"yellow\"}\n",
    "\n",
    "        sdp_cost, _, _, _, _, _ = cart.solve_nonconvex_qcqp_sdp_relaxation()\n",
    "        micp_cost, _, _, _, _, _ = cart.solve_micp_with_gcs()\n",
    "        qcqp_cost, _, _, _, _, _ = cart.solve_qcqp_convex_diff_decomposition()\n",
    "        sdp_violations.append(sdp_cost/micp_cost)\n",
    "        qcqp_violations.append(qcqp_cost/micp_cost)\n",
    "\n",
    "    print(sdp_violations)\n",
    "    print(qcqp_violations)\n",
    "\n",
    "run_a_test_for_relaxation_gap()"
   ]
  },
  {
   "cell_type": "code",
   "execution_count": null,
   "metadata": {},
   "outputs": [],
   "source": []
  },
  {
   "cell_type": "code",
   "execution_count": 11,
   "metadata": {},
   "outputs": [
    {
     "data": {
      "text/plain": [
       "array([2., 0.])"
      ]
     },
     "execution_count": 11,
     "metadata": {},
     "output_type": "execute_result"
    }
   ],
   "source": [
    "np.linalg.eigvals(np.array([[1,1],[1,1]]))"
   ]
  },
  {
   "cell_type": "code",
   "execution_count": 19,
   "metadata": {},
   "outputs": [
    {
     "data": {
      "text/plain": [
       "(6, 6)"
      ]
     },
     "execution_count": 19,
     "metadata": {},
     "output_type": "execute_result"
    }
   ],
   "source": [
    "def extract_moments_from_spectrahedron_prog_variables(vector:npt.NDArray, dim:int)-> T.Tuple[float, npt.NDArray, npt.NDArray]:\n",
    "    # spectrahedron program variables stores vectors in the following array: m1, m2[triu], m0\n",
    "    # indecis\n",
    "    ind1 = dim\n",
    "    ind2 = ind1 + int(dim*(dim+1)/2)\n",
    "    # get moments\n",
    "    m1 = vector[:ind1]\n",
    "    m2 = np.zeros((dim, dim), dtype=vector.dtype)\n",
    "    triu_ind = np.triu_indices(dim)\n",
    "    m2[triu_ind[0], triu_ind[1]] = vector[ind1: ind2]\n",
    "    m2[triu_ind[1], triu_ind[0]] = vector[ind1: ind2]\n",
    "    m0 = vector[ind2]\n",
    "    return m0, m1, m2\n",
    "\n",
    "\n",
    "# generate a vertex for n -> n+1\n",
    "prog = MathematicalProgram()\n",
    "\n",
    "x1 = prog.NewContinuousVariables(1)[0]\n",
    "v1 = prog.NewContinuousVariables(1)[0]\n",
    "f1 = prog.NewContinuousVariables(1)[0]\n",
    "u1 = prog.NewContinuousVariables(1)[0]\n",
    "x2 = prog.NewContinuousVariables(1)[0]\n",
    "v2 = prog.NewContinuousVariables(1)[0]\n",
    "\n",
    "prog.AddLinearConstraint(x2 >= 0)\n",
    "prog.AddLinearConstraint(f1 >= 0)\n",
    "# prog.AddLinearConstraint(x2 == x1 + self.h * v2)\n",
    "# prog.AddLinearConstraint(v2 == v1 + self.h/self.m * (u1+f1) )\n",
    "prog.AddConstraint(x2*f1 == 0)\n",
    "# prog.AddLinearConstraint(u1<= self.umax)\n",
    "sdp_prog = MakeSemidefiniteRelaxation(prog)\n",
    "_, _, m2 = extract_moments_from_spectrahedron_prog_variables(sdp_prog.decision_variables(), 6)\n",
    "m2.shape"
   ]
  },
  {
   "cell_type": "code",
   "execution_count": null,
   "metadata": {},
   "outputs": [],
   "source": []
  }
 ],
 "metadata": {
  "kernelspec": {
   "display_name": "Python 3",
   "language": "python",
   "name": "python3"
  },
  "language_info": {
   "codemirror_mode": {
    "name": "ipython",
    "version": 3
   },
   "file_extension": ".py",
   "mimetype": "text/x-python",
   "name": "python",
   "nbconvert_exporter": "python",
   "pygments_lexer": "ipython3",
   "version": "3.11.3"
  }
 },
 "nbformat": 4,
 "nbformat_minor": 2
}
