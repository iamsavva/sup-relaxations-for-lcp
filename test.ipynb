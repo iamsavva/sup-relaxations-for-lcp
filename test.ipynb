{
 "cells": [
  {
   "cell_type": "code",
   "execution_count": 1,
   "metadata": {},
   "outputs": [
    {
     "name": "stderr",
     "output_type": "stream",
     "text": [
      "INFO:drake:Solved GCS shortest path using Mosek with convex_relaxation=true and preprocessing=false and no rounding.\n",
      "INFO:drake:Solved GCS shortest path using Gurobi with convex_relaxation=false and preprocessing=false and no rounding.\n"
     ]
    },
    {
     "name": "stdout",
     "output_type": "stream",
     "text": [
      "\u001b[34mIPOPT took 0.068s\n",
      "\u001b[32msolve successful!\n",
      "\u001b[32m30.05553319750908\n",
      "\u001b[32mSolutionResult.kSolutionFound\n",
      "\u001b[32mSolver is IPOPT\n",
      "\u001b[34m-------------------\n",
      "\u001b[34mnonconvex QCQP relaxaion with MOSEK took 0.173s\n",
      "\u001b[32msolve successful!\n",
      "\u001b[32m6.391753123912942\n",
      "\u001b[32mSolutionResult.kSolutionFound\n",
      "\u001b[32mSolver is Mosek\n",
      "\u001b[32m<pydrake.solvers.MosekSolverDetails object at 0x10ecf66b0>\n",
      "\u001b[32mtime 0.16512799263000488\n",
      "\u001b[32mrescode 0\n",
      "\u001b[32msolution_status 1\n",
      "\u001b[34m-------------------\n",
      "\u001b[34mGCS CR took 0.012s\n",
      "\u001b[32msolve successful!\n",
      "\u001b[32m5.8674624822741865\n",
      "\u001b[32mSolutionResult.kSolutionFound\n",
      "\u001b[32mSolver is Mosek\n",
      "\u001b[32m<pydrake.solvers.MosekSolverDetails object at 0x1084959f0>\n",
      "\u001b[32mtime 0.005387067794799805\n",
      "\u001b[32mrescode 0\n",
      "\u001b[32msolution_status 1\n",
      "\u001b[34m-------------------\n",
      "Set parameter Username\n",
      "Academic license - for non-commercial use only - expires 2024-12-01\n",
      "\u001b[34mGCS MICP took 0.073s\n",
      "\u001b[32msolve successful!\n",
      "\u001b[32m6.391736113661061\n",
      "\u001b[32mSolutionResult.kSolutionFound\n",
      "\u001b[32mSolver is Gurobi\n",
      "\u001b[34m-------------------\n",
      "\u001b[34mconvex took 0.006s\n",
      "\u001b[32msolve successful!\n",
      "\u001b[32m6.496548990758626\n",
      "\u001b[32mSolutionResult.kSolutionFound\n",
      "\u001b[32mSolver is Mosek\n",
      "\u001b[32m<pydrake.solvers.MosekSolverDetails object at 0x10ed619f0>\n",
      "\u001b[32mtime 0.0010449886322021484\n",
      "\u001b[32mrescode 0\n",
      "\u001b[32msolution_status 1\n",
      "\u001b[33m5.4205934923218813\n",
      "\u001b[34m-------------------\n"
     ]
    }
   ],
   "source": [
    "import typing as T  # pylint: disable=unused-import\n",
    "\n",
    "import numpy as np\n",
    "import numpy.typing as npt\n",
    "\n",
    "from pydrake.solvers import (  # pylint: disable=import-error, no-name-in-module, unused-import\n",
    "    MakeSemidefiniteRelaxation,\n",
    "    MathematicalProgram,\n",
    "    MathematicalProgramResult,\n",
    "    Solve,\n",
    "    IpoptSolver,\n",
    "    SnoptSolver,\n",
    "    GurobiSolver,\n",
    "    MosekSolver,\n",
    "    MosekSolverDetails,\n",
    "    SolverOptions,\n",
    "    CommonSolverOption,\n",
    ")\n",
    "\n",
    "from pydrake.geometry.optimization import (  # pylint: disable=import-error, no-name-in-module\n",
    "    HPolyhedron,\n",
    "    Point,\n",
    "    ConvexSet,\n",
    "    GraphOfConvexSets,\n",
    "    GraphOfConvexSetsOptions,\n",
    ")\n",
    "\n",
    "from pydrake.symbolic import ( # pylint: disable=import-error, no-name-in-module, unused-import\n",
    "    Polynomial,\n",
    "    Variable,\n",
    "    Variables,\n",
    "    Expression,\n",
    ")  \n",
    "\n",
    "from contact_cart import ContactCart\n",
    "\n",
    "import plotly.graph_objects as go  # pylint: disable=import-error\n",
    "from plotly.express.colors import sample_colorscale  # pylint: disable=import-error\n",
    "import plotly.graph_objs as go\n",
    "from plotly.subplots import make_subplots"
   ]
  },
  {
   "cell_type": "code",
   "execution_count": 4,
   "metadata": {},
   "outputs": [
    {
     "name": "stderr",
     "output_type": "stream",
     "text": [
      "INFO:drake:Solved GCS shortest path using Gurobi with convex_relaxation=false and preprocessing=false and no rounding.\n"
     ]
    },
    {
     "name": "stdout",
     "output_type": "stream",
     "text": [
      "\u001b[34mIPOPT took 0.100s\n",
      "\u001b[32msolve successful!\n",
      "\u001b[32m38.73397270574933\n",
      "\u001b[32mSolutionResult.kSolutionFound\n",
      "\u001b[32mSolver is IPOPT\n",
      "\u001b[34m-------------------\n",
      "\u001b[34mnonconvex QCQP relaxaion with MOSEK took 0.180s\n",
      "\u001b[32msolve successful!\n",
      "\u001b[32m21.569730356418976\n",
      "\u001b[32mSolutionResult.kSolutionFound\n",
      "\u001b[32mSolver is Mosek\n",
      "\u001b[32m<pydrake.solvers.MosekSolverDetails object at 0x2a5daef30>\n",
      "\u001b[32mtime 0.17226886749267578\n",
      "\u001b[32mrescode 0\n",
      "\u001b[32msolution_status 1\n",
      "\u001b[34m-------------------\n",
      "\u001b[34mGCS MICP took 0.120s\n",
      "\u001b[32msolve successful!\n",
      "\u001b[32m14.606542488444163\n",
      "\u001b[32mSolutionResult.kSolutionFound\n",
      "\u001b[32mSolver is Gurobi\n",
      "\u001b[34m-------------------\n",
      "\u001b[34mconvex took 0.006s\n",
      "\u001b[32msolve successful!\n",
      "\u001b[32m18.301406194289292\n",
      "\u001b[32mSolutionResult.kSolutionFound\n",
      "\u001b[32mSolver is Mosek\n",
      "\u001b[32m<pydrake.solvers.MosekSolverDetails object at 0x2a5da4ab0>\n",
      "\u001b[32mtime 0.0011599063873291016\n",
      "\u001b[32mrescode 0\n",
      "\u001b[32msolution_status 1\n",
      "\u001b[33m14.661451349765702\n",
      "\u001b[34m-------------------\n"
     ]
    }
   ],
   "source": [
    "cart = ContactCart(v0=-5)\n",
    "\n",
    "x_trajs = []\n",
    "v_trajs = []\n",
    "f_trajs = []\n",
    "u_trajs = []\n",
    "lcp_trajs = []\n",
    "\n",
    "colors = {\"micp\": \"red\", \"sdp\":\"blue\", \"qcqp\":\"green\", \"ipopt\" : \"yellow\"}\n",
    "\n",
    "functions = [(cart.solve_with_ipopt(), \"ipopt\"), (cart.solve_nonconvex_qcqp_sdp_relaxation(),\"sdp\"), (cart.solve_micp_with_gcs(), \"micp\"), (cart.solve_qcqp_convex_diff_decomposition(), \"qcqp\")]\n",
    "\n",
    "for (stuff, name) in functions:\n",
    "    cost, x_traj, v_traj, f_traj, u_traj, lcp_v_traj = stuff\n",
    "    x_trajs.append((x_traj, name))\n",
    "    v_trajs.append((v_traj, name))\n",
    "    f_trajs.append((f_traj, name))\n",
    "    u_trajs.append((u_traj, name))\n",
    "    lcp_trajs.append((lcp_v_traj, name))\n",
    "\n"
   ]
  },
  {
   "cell_type": "code",
   "execution_count": 5,
   "metadata": {},
   "outputs": [
    {
     "data": {
      "application/vnd.plotly.v1+json": {
       "config": {
        "plotlyServerURL": "https://plot.ly"
       },
       "data": [
        {
         "line": {
          "color": "yellow"
         },
         "mode": "lines",
         "name": "ipopt",
         "type": "scatter",
         "x": [
          0,
          1,
          2,
          3,
          4,
          5,
          6,
          7,
          8,
          9
         ],
         "xaxis": "x",
         "y": [
          1,
          0.6183564580190967,
          0.30030237352858474,
          0.005522911655612706,
          -1.2778792010190859e-36,
          -2.0513055314535135e-33,
          -1.0435767897049018e-10,
          1.4532679542367286e-16,
          0.09808973331260723,
          0.24268098075803815,
          0.4016642735036347
         ],
         "yaxis": "y"
        },
        {
         "line": {
          "color": "blue"
         },
         "mode": "lines",
         "name": "sdp",
         "type": "scatter",
         "x": [
          0,
          1,
          2,
          3,
          4,
          5,
          6,
          7,
          8,
          9
         ],
         "xaxis": "x",
         "y": [
          1,
          0.7595780696769326,
          0.7029197855795523,
          0.7684556385933753,
          0.9088129326369927,
          1.0896755915101641,
          1.2880447218388416,
          1.4902041710966751,
          1.689591748526498,
          1.8847133442779649,
          2.0771374871369197
         ],
         "yaxis": "y"
        },
        {
         "line": {
          "color": "red"
         },
         "mode": "lines",
         "name": "micp",
         "type": "scatter",
         "x": [
          0,
          1,
          2,
          3,
          4,
          5,
          6,
          7,
          8,
          9
         ],
         "xaxis": "x",
         "y": [
          1,
          0.5029828112520293,
          0,
          0.43531216236015896,
          0.8419255357047126,
          1.2064890042509566,
          1.5268021827246303,
          1.8081974674236652,
          2.06034590070465,
          2.294517346547396,
          2.521194997593034
         ],
         "yaxis": "y"
        },
        {
         "line": {
          "color": "green"
         },
         "mode": "lines",
         "name": "qcqp",
         "type": "scatter",
         "x": [
          0,
          1,
          2,
          3,
          4,
          5,
          6,
          7,
          8,
          9
         ],
         "xaxis": "x",
         "y": [
          1,
          0.7859500467041987,
          0.7658489900757995,
          0.8646881589978335,
          1.0251232204399172,
          1.207414873328163,
          1.3950099787881045,
          1.5790928007159937,
          1.7565833783412859,
          1.9282290818352537,
          2.0968016821209137
         ],
         "yaxis": "y"
        },
        {
         "line": {
          "color": "yellow"
         },
         "mode": "lines",
         "name": "ipopt",
         "type": "scatter",
         "x": [
          0,
          1,
          2,
          3,
          4,
          5,
          6,
          7,
          8,
          9
         ],
         "xaxis": "x2",
         "y": [
          -5,
          -3.8164354198090327,
          -3.1805408449051193,
          -2.94779461872972,
          -0.05522911655612705,
          2.4216653981264348e-27,
          -1.0435767897049017e-9,
          1.043578242972856e-9,
          0.9808973331260706,
          1.4459124744543093,
          1.5898329274559653
         ],
         "yaxis": "y2"
        },
        {
         "line": {
          "color": "blue"
         },
         "mode": "lines",
         "name": "sdp",
         "type": "scatter",
         "x": [
          0,
          1,
          2,
          3,
          4,
          5,
          6,
          7,
          8,
          9
         ],
         "xaxis": "x2",
         "y": [
          -5,
          -2.4042192563622287,
          -0.5665828414498186,
          0.6553585299286439,
          1.403572940332804,
          1.8086265886717012,
          1.983691303250956,
          2.0215944925571145,
          1.9938757742831124,
          1.9512159575058936,
          1.9242414285885852
         ],
         "yaxis": "y2"
        },
        {
         "line": {
          "color": "red"
         },
         "mode": "lines",
         "name": "micp",
         "type": "scatter",
         "x": [
          0,
          1,
          2,
          3,
          4,
          5,
          6,
          7,
          8,
          9
         ],
         "xaxis": "x2",
         "y": [
          -5,
          -4.970171887466007,
          -5.029828112520292,
          4.35312162360159,
          4.0661337334235395,
          3.6456346854775603,
          3.203131784720556,
          2.8139528468337733,
          2.521484332996979,
          2.3417144584140206,
          2.266776510285218
         ],
         "yaxis": "y2"
        },
        {
         "line": {
          "color": "green"
         },
         "mode": "lines",
         "name": "qcqp",
         "type": "scatter",
         "x": [
          0,
          1,
          2,
          3,
          4,
          5,
          6,
          7,
          8,
          9
         ],
         "xaxis": "x2",
         "y": [
          -5,
          -2.140499509026887,
          -0.20101056628398978,
          0.9883916892203386,
          1.6043506144208397,
          1.8229165288824554,
          1.875951054599413,
          1.8408282192788918,
          1.7749057762529263,
          1.7164570349396746,
          1.6857260028565968
         ],
         "yaxis": "y2"
        },
        {
         "line": {
          "color": "yellow"
         },
         "mode": "lines",
         "name": "ipopt",
         "type": "scatter",
         "x": [
          0,
          1,
          2,
          3,
          4,
          5,
          6,
          7,
          8,
          9
         ],
         "xaxis": "x3",
         "y": [
          -1.0109503791333957e-36,
          -3.247839633677367e-36,
          5.604543991140353e-35,
          28.906754933771815,
          0.5582955158773422,
          -3.418744329183465e-17,
          -1.0495167738398849e-10,
          6.913646960546726e-24,
          1.3497657038825462e-33,
          -1.4463659965609695e-35
         ],
         "yaxis": "y3"
        },
        {
         "line": {
          "color": "blue"
         },
         "mode": "lines",
         "name": "sdp",
         "type": "scatter",
         "x": [
          0,
          1,
          2,
          3,
          4,
          5,
          6,
          7,
          8,
          9
         ],
         "xaxis": "x3",
         "y": [
          1.0114734139407732e-7,
          0.000003518009303122383,
          0.000010236705332361156,
          0.00000456130144569399,
          0.0000029328105381768194,
          0.0000020431650447137502,
          0.0000014715466474716901,
          0.0000011965461241376273,
          0.000001091972228056151,
          0.00000109962041789016
         ],
         "yaxis": "y3"
        },
        {
         "line": {
          "color": "red"
         },
         "mode": "lines",
         "name": "micp",
         "type": "scatter",
         "x": [
          0,
          1,
          2,
          3,
          4,
          5,
          6,
          7,
          8,
          9
         ],
         "xaxis": "x3",
         "y": [
          0,
          0,
          93.82929576837063,
          0,
          0,
          0,
          0,
          0,
          0,
          0
         ],
         "yaxis": "y3"
        },
        {
         "line": {
          "color": "green"
         },
         "mode": "lines",
         "name": "qcqp",
         "type": "scatter",
         "x": [
          0,
          1,
          2,
          3,
          4,
          5,
          6,
          7,
          8,
          9
         ],
         "xaxis": "x3",
         "y": [
          9.007701587108832,
          5.95439716334027,
          3.388215420459078,
          1.3697809403308459,
          9.502972699826221e-11,
          9.100204175206259e-12,
          5.750988445099682e-12,
          4.814165884722057e-12,
          4.5324845341608135e-12,
          4.4932387116566066e-12
         ],
         "yaxis": "y3"
        },
        {
         "line": {
          "color": "yellow"
         },
         "mode": "lines",
         "name": "ipopt",
         "type": "scatter",
         "x": [
          0,
          1,
          2,
          3,
          4,
          5,
          6,
          7,
          8,
          9
         ],
         "xaxis": "x4",
         "y": [
          11.835645801909678,
          6.35894574903913,
          2.3274622617539964,
          0.018900087964112612,
          -0.006004350316071659,
          -1.0435767862861574e-8,
          2.0976502004161562e-8,
          9.808973320824924,
          4.6501514132823845,
          1.4392045300165617
         ],
         "yaxis": "y4"
        },
        {
         "line": {
          "color": "blue"
         },
         "mode": "lines",
         "name": "sdp",
         "type": "scatter",
         "x": [
          0,
          1,
          2,
          3,
          4,
          5,
          6,
          7,
          8,
          9
         ],
         "xaxis": "x4",
         "y": [
          25.957807103864756,
          18.376360631192128,
          12.219403477134772,
          7.4821395427760775,
          4.05053355060239,
          1.7506451026453222,
          0.3790304215277601,
          -0.27718837928240503,
          -0.4265992597328311,
          -0.26974638879188384
         ],
         "yaxis": "y4"
        },
        {
         "line": {
          "color": "red"
         },
         "mode": "lines",
         "name": "micp",
         "type": "scatter",
         "x": [
          0,
          1,
          2,
          3,
          4,
          5,
          6,
          7,
          8,
          9
         ],
         "xaxis": "x4",
         "y": [
          0.29828112527078343,
          -0.596562250542836,
          0.00020159312531820063,
          -2.869878901985967,
          -4.20499047939436,
          -4.425029007612994,
          -3.891789379156358,
          -2.9246851381070553,
          -1.7976987458448621,
          -0.7493794814570841
         ],
         "yaxis": "y4"
        },
        {
         "line": {
          "color": "green"
         },
         "mode": "lines",
         "name": "qcqp",
         "type": "scatter",
         "x": [
          0,
          1,
          2,
          3,
          4,
          5,
          6,
          7,
          8,
          9
         ],
         "xaxis": "x4",
         "y": [
          19.587303224523087,
          13.44049227833825,
          8.505807142692586,
          4.7898083149522055,
          2.1856591445211215,
          0.5303452571604723,
          -0.3512283532109604,
          -0.6592244302644678,
          -0.5844874131370476,
          -0.3073103208352723
         ],
         "yaxis": "y4"
        },
        {
         "line": {
          "color": "yellow"
         },
         "mode": "lines",
         "name": "ipopt",
         "type": "scatter",
         "x": [
          0,
          1,
          2,
          3,
          4,
          5,
          6,
          7,
          8,
          9
         ],
         "xaxis": "x5",
         "y": [
          -6.251276956739894e-37,
          -9.753339508335226e-37,
          3.095340133306321e-37,
          -3.6939340898822846e-35,
          -1.1452346799048849e-33,
          3.567722231871118e-27,
          -1.525229094855421e-26,
          6.7815778657754595e-25,
          3.2756246481178e-34,
          -5.809535472290224e-36
         ],
         "yaxis": "y5"
        },
        {
         "line": {
          "color": "blue"
         },
         "mode": "lines",
         "name": "sdp",
         "type": "scatter",
         "x": [
          0,
          1,
          2,
          3,
          4,
          5,
          6,
          7,
          8,
          9
         ],
         "xaxis": "x5",
         "y": [
          7.682930232906696e-8,
          0.0000024728783450176557,
          0.000007866453933271802,
          0.000004145369743502509,
          0.0000031958120579750683,
          0.0000026316879516891665,
          0.0000021929049520256413,
          0.000002021674458074298,
          0.000002058054629798369,
          0.0000022840627916208164
         ],
         "yaxis": "y5"
        },
        {
         "line": {
          "color": "red"
         },
         "mode": "lines",
         "name": "micp",
         "type": "scatter",
         "x": [
          0,
          1,
          2,
          3,
          4,
          5,
          6,
          7,
          8,
          9
         ],
         "xaxis": "x5",
         "y": [
          0,
          0,
          40.84503363366033,
          0,
          0,
          0,
          0,
          0,
          0,
          0
         ],
         "yaxis": "y5"
        },
        {
         "line": {
          "color": "green"
         },
         "mode": "lines",
         "name": "qcqp",
         "type": "scatter",
         "x": [
          0,
          1,
          2,
          3,
          4,
          5,
          6,
          7,
          8,
          9
         ],
         "xaxis": "x5",
         "y": [
          7.079603483085671,
          4.560169054054351,
          2.9297497542048303,
          1.4041942488491748,
          1.1474030578601669e-10,
          1.2694875633421903e-11,
          9.081344450657773e-12,
          8.456483773680436e-12,
          8.739668491737393e-12,
          9.42143048877238e-12
         ],
         "yaxis": "y5"
        }
       ],
       "layout": {
        "height": 1200,
        "template": {
         "data": {
          "bar": [
           {
            "error_x": {
             "color": "#2a3f5f"
            },
            "error_y": {
             "color": "#2a3f5f"
            },
            "marker": {
             "line": {
              "color": "#E5ECF6",
              "width": 0.5
             },
             "pattern": {
              "fillmode": "overlay",
              "size": 10,
              "solidity": 0.2
             }
            },
            "type": "bar"
           }
          ],
          "barpolar": [
           {
            "marker": {
             "line": {
              "color": "#E5ECF6",
              "width": 0.5
             },
             "pattern": {
              "fillmode": "overlay",
              "size": 10,
              "solidity": 0.2
             }
            },
            "type": "barpolar"
           }
          ],
          "carpet": [
           {
            "aaxis": {
             "endlinecolor": "#2a3f5f",
             "gridcolor": "white",
             "linecolor": "white",
             "minorgridcolor": "white",
             "startlinecolor": "#2a3f5f"
            },
            "baxis": {
             "endlinecolor": "#2a3f5f",
             "gridcolor": "white",
             "linecolor": "white",
             "minorgridcolor": "white",
             "startlinecolor": "#2a3f5f"
            },
            "type": "carpet"
           }
          ],
          "choropleth": [
           {
            "colorbar": {
             "outlinewidth": 0,
             "ticks": ""
            },
            "type": "choropleth"
           }
          ],
          "contour": [
           {
            "colorbar": {
             "outlinewidth": 0,
             "ticks": ""
            },
            "colorscale": [
             [
              0,
              "#0d0887"
             ],
             [
              0.1111111111111111,
              "#46039f"
             ],
             [
              0.2222222222222222,
              "#7201a8"
             ],
             [
              0.3333333333333333,
              "#9c179e"
             ],
             [
              0.4444444444444444,
              "#bd3786"
             ],
             [
              0.5555555555555556,
              "#d8576b"
             ],
             [
              0.6666666666666666,
              "#ed7953"
             ],
             [
              0.7777777777777778,
              "#fb9f3a"
             ],
             [
              0.8888888888888888,
              "#fdca26"
             ],
             [
              1,
              "#f0f921"
             ]
            ],
            "type": "contour"
           }
          ],
          "contourcarpet": [
           {
            "colorbar": {
             "outlinewidth": 0,
             "ticks": ""
            },
            "type": "contourcarpet"
           }
          ],
          "heatmap": [
           {
            "colorbar": {
             "outlinewidth": 0,
             "ticks": ""
            },
            "colorscale": [
             [
              0,
              "#0d0887"
             ],
             [
              0.1111111111111111,
              "#46039f"
             ],
             [
              0.2222222222222222,
              "#7201a8"
             ],
             [
              0.3333333333333333,
              "#9c179e"
             ],
             [
              0.4444444444444444,
              "#bd3786"
             ],
             [
              0.5555555555555556,
              "#d8576b"
             ],
             [
              0.6666666666666666,
              "#ed7953"
             ],
             [
              0.7777777777777778,
              "#fb9f3a"
             ],
             [
              0.8888888888888888,
              "#fdca26"
             ],
             [
              1,
              "#f0f921"
             ]
            ],
            "type": "heatmap"
           }
          ],
          "heatmapgl": [
           {
            "colorbar": {
             "outlinewidth": 0,
             "ticks": ""
            },
            "colorscale": [
             [
              0,
              "#0d0887"
             ],
             [
              0.1111111111111111,
              "#46039f"
             ],
             [
              0.2222222222222222,
              "#7201a8"
             ],
             [
              0.3333333333333333,
              "#9c179e"
             ],
             [
              0.4444444444444444,
              "#bd3786"
             ],
             [
              0.5555555555555556,
              "#d8576b"
             ],
             [
              0.6666666666666666,
              "#ed7953"
             ],
             [
              0.7777777777777778,
              "#fb9f3a"
             ],
             [
              0.8888888888888888,
              "#fdca26"
             ],
             [
              1,
              "#f0f921"
             ]
            ],
            "type": "heatmapgl"
           }
          ],
          "histogram": [
           {
            "marker": {
             "pattern": {
              "fillmode": "overlay",
              "size": 10,
              "solidity": 0.2
             }
            },
            "type": "histogram"
           }
          ],
          "histogram2d": [
           {
            "colorbar": {
             "outlinewidth": 0,
             "ticks": ""
            },
            "colorscale": [
             [
              0,
              "#0d0887"
             ],
             [
              0.1111111111111111,
              "#46039f"
             ],
             [
              0.2222222222222222,
              "#7201a8"
             ],
             [
              0.3333333333333333,
              "#9c179e"
             ],
             [
              0.4444444444444444,
              "#bd3786"
             ],
             [
              0.5555555555555556,
              "#d8576b"
             ],
             [
              0.6666666666666666,
              "#ed7953"
             ],
             [
              0.7777777777777778,
              "#fb9f3a"
             ],
             [
              0.8888888888888888,
              "#fdca26"
             ],
             [
              1,
              "#f0f921"
             ]
            ],
            "type": "histogram2d"
           }
          ],
          "histogram2dcontour": [
           {
            "colorbar": {
             "outlinewidth": 0,
             "ticks": ""
            },
            "colorscale": [
             [
              0,
              "#0d0887"
             ],
             [
              0.1111111111111111,
              "#46039f"
             ],
             [
              0.2222222222222222,
              "#7201a8"
             ],
             [
              0.3333333333333333,
              "#9c179e"
             ],
             [
              0.4444444444444444,
              "#bd3786"
             ],
             [
              0.5555555555555556,
              "#d8576b"
             ],
             [
              0.6666666666666666,
              "#ed7953"
             ],
             [
              0.7777777777777778,
              "#fb9f3a"
             ],
             [
              0.8888888888888888,
              "#fdca26"
             ],
             [
              1,
              "#f0f921"
             ]
            ],
            "type": "histogram2dcontour"
           }
          ],
          "mesh3d": [
           {
            "colorbar": {
             "outlinewidth": 0,
             "ticks": ""
            },
            "type": "mesh3d"
           }
          ],
          "parcoords": [
           {
            "line": {
             "colorbar": {
              "outlinewidth": 0,
              "ticks": ""
             }
            },
            "type": "parcoords"
           }
          ],
          "pie": [
           {
            "automargin": true,
            "type": "pie"
           }
          ],
          "scatter": [
           {
            "fillpattern": {
             "fillmode": "overlay",
             "size": 10,
             "solidity": 0.2
            },
            "type": "scatter"
           }
          ],
          "scatter3d": [
           {
            "line": {
             "colorbar": {
              "outlinewidth": 0,
              "ticks": ""
             }
            },
            "marker": {
             "colorbar": {
              "outlinewidth": 0,
              "ticks": ""
             }
            },
            "type": "scatter3d"
           }
          ],
          "scattercarpet": [
           {
            "marker": {
             "colorbar": {
              "outlinewidth": 0,
              "ticks": ""
             }
            },
            "type": "scattercarpet"
           }
          ],
          "scattergeo": [
           {
            "marker": {
             "colorbar": {
              "outlinewidth": 0,
              "ticks": ""
             }
            },
            "type": "scattergeo"
           }
          ],
          "scattergl": [
           {
            "marker": {
             "colorbar": {
              "outlinewidth": 0,
              "ticks": ""
             }
            },
            "type": "scattergl"
           }
          ],
          "scattermapbox": [
           {
            "marker": {
             "colorbar": {
              "outlinewidth": 0,
              "ticks": ""
             }
            },
            "type": "scattermapbox"
           }
          ],
          "scatterpolar": [
           {
            "marker": {
             "colorbar": {
              "outlinewidth": 0,
              "ticks": ""
             }
            },
            "type": "scatterpolar"
           }
          ],
          "scatterpolargl": [
           {
            "marker": {
             "colorbar": {
              "outlinewidth": 0,
              "ticks": ""
             }
            },
            "type": "scatterpolargl"
           }
          ],
          "scatterternary": [
           {
            "marker": {
             "colorbar": {
              "outlinewidth": 0,
              "ticks": ""
             }
            },
            "type": "scatterternary"
           }
          ],
          "surface": [
           {
            "colorbar": {
             "outlinewidth": 0,
             "ticks": ""
            },
            "colorscale": [
             [
              0,
              "#0d0887"
             ],
             [
              0.1111111111111111,
              "#46039f"
             ],
             [
              0.2222222222222222,
              "#7201a8"
             ],
             [
              0.3333333333333333,
              "#9c179e"
             ],
             [
              0.4444444444444444,
              "#bd3786"
             ],
             [
              0.5555555555555556,
              "#d8576b"
             ],
             [
              0.6666666666666666,
              "#ed7953"
             ],
             [
              0.7777777777777778,
              "#fb9f3a"
             ],
             [
              0.8888888888888888,
              "#fdca26"
             ],
             [
              1,
              "#f0f921"
             ]
            ],
            "type": "surface"
           }
          ],
          "table": [
           {
            "cells": {
             "fill": {
              "color": "#EBF0F8"
             },
             "line": {
              "color": "white"
             }
            },
            "header": {
             "fill": {
              "color": "#C8D4E3"
             },
             "line": {
              "color": "white"
             }
            },
            "type": "table"
           }
          ]
         },
         "layout": {
          "annotationdefaults": {
           "arrowcolor": "#2a3f5f",
           "arrowhead": 0,
           "arrowwidth": 1
          },
          "autotypenumbers": "strict",
          "coloraxis": {
           "colorbar": {
            "outlinewidth": 0,
            "ticks": ""
           }
          },
          "colorscale": {
           "diverging": [
            [
             0,
             "#8e0152"
            ],
            [
             0.1,
             "#c51b7d"
            ],
            [
             0.2,
             "#de77ae"
            ],
            [
             0.3,
             "#f1b6da"
            ],
            [
             0.4,
             "#fde0ef"
            ],
            [
             0.5,
             "#f7f7f7"
            ],
            [
             0.6,
             "#e6f5d0"
            ],
            [
             0.7,
             "#b8e186"
            ],
            [
             0.8,
             "#7fbc41"
            ],
            [
             0.9,
             "#4d9221"
            ],
            [
             1,
             "#276419"
            ]
           ],
           "sequential": [
            [
             0,
             "#0d0887"
            ],
            [
             0.1111111111111111,
             "#46039f"
            ],
            [
             0.2222222222222222,
             "#7201a8"
            ],
            [
             0.3333333333333333,
             "#9c179e"
            ],
            [
             0.4444444444444444,
             "#bd3786"
            ],
            [
             0.5555555555555556,
             "#d8576b"
            ],
            [
             0.6666666666666666,
             "#ed7953"
            ],
            [
             0.7777777777777778,
             "#fb9f3a"
            ],
            [
             0.8888888888888888,
             "#fdca26"
            ],
            [
             1,
             "#f0f921"
            ]
           ],
           "sequentialminus": [
            [
             0,
             "#0d0887"
            ],
            [
             0.1111111111111111,
             "#46039f"
            ],
            [
             0.2222222222222222,
             "#7201a8"
            ],
            [
             0.3333333333333333,
             "#9c179e"
            ],
            [
             0.4444444444444444,
             "#bd3786"
            ],
            [
             0.5555555555555556,
             "#d8576b"
            ],
            [
             0.6666666666666666,
             "#ed7953"
            ],
            [
             0.7777777777777778,
             "#fb9f3a"
            ],
            [
             0.8888888888888888,
             "#fdca26"
            ],
            [
             1,
             "#f0f921"
            ]
           ]
          },
          "colorway": [
           "#636efa",
           "#EF553B",
           "#00cc96",
           "#ab63fa",
           "#FFA15A",
           "#19d3f3",
           "#FF6692",
           "#B6E880",
           "#FF97FF",
           "#FECB52"
          ],
          "font": {
           "color": "#2a3f5f"
          },
          "geo": {
           "bgcolor": "white",
           "lakecolor": "white",
           "landcolor": "#E5ECF6",
           "showlakes": true,
           "showland": true,
           "subunitcolor": "white"
          },
          "hoverlabel": {
           "align": "left"
          },
          "hovermode": "closest",
          "mapbox": {
           "style": "light"
          },
          "paper_bgcolor": "white",
          "plot_bgcolor": "#E5ECF6",
          "polar": {
           "angularaxis": {
            "gridcolor": "white",
            "linecolor": "white",
            "ticks": ""
           },
           "bgcolor": "#E5ECF6",
           "radialaxis": {
            "gridcolor": "white",
            "linecolor": "white",
            "ticks": ""
           }
          },
          "scene": {
           "xaxis": {
            "backgroundcolor": "#E5ECF6",
            "gridcolor": "white",
            "gridwidth": 2,
            "linecolor": "white",
            "showbackground": true,
            "ticks": "",
            "zerolinecolor": "white"
           },
           "yaxis": {
            "backgroundcolor": "#E5ECF6",
            "gridcolor": "white",
            "gridwidth": 2,
            "linecolor": "white",
            "showbackground": true,
            "ticks": "",
            "zerolinecolor": "white"
           },
           "zaxis": {
            "backgroundcolor": "#E5ECF6",
            "gridcolor": "white",
            "gridwidth": 2,
            "linecolor": "white",
            "showbackground": true,
            "ticks": "",
            "zerolinecolor": "white"
           }
          },
          "shapedefaults": {
           "line": {
            "color": "#2a3f5f"
           }
          },
          "ternary": {
           "aaxis": {
            "gridcolor": "white",
            "linecolor": "white",
            "ticks": ""
           },
           "baxis": {
            "gridcolor": "white",
            "linecolor": "white",
            "ticks": ""
           },
           "bgcolor": "#E5ECF6",
           "caxis": {
            "gridcolor": "white",
            "linecolor": "white",
            "ticks": ""
           }
          },
          "title": {
           "x": 0.05
          },
          "xaxis": {
           "automargin": true,
           "gridcolor": "white",
           "linecolor": "white",
           "ticks": "",
           "title": {
            "standoff": 15
           },
           "zerolinecolor": "white",
           "zerolinewidth": 2
          },
          "yaxis": {
           "automargin": true,
           "gridcolor": "white",
           "linecolor": "white",
           "ticks": "",
           "title": {
            "standoff": 15
           },
           "zerolinecolor": "white",
           "zerolinewidth": 2
          }
         }
        },
        "title": {
         "text": "Solver Comparisons"
        },
        "width": 800,
        "xaxis": {
         "anchor": "y",
         "domain": [
          0,
          1
         ]
        },
        "xaxis2": {
         "anchor": "y2",
         "domain": [
          0,
          1
         ]
        },
        "xaxis3": {
         "anchor": "y3",
         "domain": [
          0,
          1
         ]
        },
        "xaxis4": {
         "anchor": "y4",
         "domain": [
          0,
          1
         ]
        },
        "xaxis5": {
         "anchor": "y5",
         "domain": [
          0,
          1
         ]
        },
        "yaxis": {
         "anchor": "x",
         "domain": [
          0.848,
          1
         ],
         "title": {
          "text": "Position"
         }
        },
        "yaxis2": {
         "anchor": "x2",
         "domain": [
          0.6359999999999999,
          0.7879999999999999
         ],
         "title": {
          "text": "Velocity"
         }
        },
        "yaxis3": {
         "anchor": "x3",
         "domain": [
          0.424,
          0.576
         ],
         "title": {
          "text": "Normal Force"
         }
        },
        "yaxis4": {
         "anchor": "x4",
         "domain": [
          0.212,
          0.364
         ],
         "title": {
          "text": "Control"
         }
        },
        "yaxis5": {
         "anchor": "x5",
         "domain": [
          0,
          0.152
         ],
         "title": {
          "text": "LCP violation"
         }
        }
       }
      }
     },
     "metadata": {},
     "output_type": "display_data"
    }
   ],
   "source": [
    "fig = go.Figure()\n",
    "\n",
    "time = np.array(list(range(cart.N)))\n",
    "\n",
    "# Create subplots\n",
    "fig = make_subplots(rows=5, cols=1)\n",
    "\n",
    "\n",
    "for (x_traj, name) in x_trajs:\n",
    "    fig.add_trace(go.Scatter(x=time, y=x_traj, mode='lines', name=name, line=dict(color=colors[name]) ), row=1, col=1)\n",
    "\n",
    "for (x_traj, name) in v_trajs:\n",
    "    fig.add_trace(go.Scatter(x=time, y=x_traj, mode='lines', name=name, line=dict(color=colors[name])), row=2, col=1)    \n",
    "\n",
    "for (x_traj, name) in f_trajs:\n",
    "    fig.add_trace(go.Scatter(x=time, y=x_traj, mode='lines', name=name, line=dict(color=colors[name])), row=3, col=1)    \n",
    "\n",
    "for (x_traj, name) in u_trajs:\n",
    "    fig.add_trace(go.Scatter(x=time, y=x_traj, mode='lines', name=name, line=dict(color=colors[name])), row=4, col=1)    \n",
    "\n",
    "for (x_traj, name) in lcp_trajs:\n",
    "    fig.add_trace(go.Scatter(x=time, y=x_traj, mode='lines', name=name, line=dict(color=colors[name])), row=5, col=1)    \n",
    "# Update layout\n",
    "fig.update_layout(height=1200, width=800, title_text=\"Solver Comparisons\")\n",
    "\n",
    "fig.update_yaxes(title_text=\"Position\", row=1, col=1)\n",
    "fig.update_yaxes(title_text=\"Velocity\", row=2, col=1)\n",
    "fig.update_yaxes(title_text=\"Normal Force\", row=3, col=1)\n",
    "fig.update_yaxes(title_text=\"Control\", row=4, col=1)\n",
    "fig.update_yaxes(title_text=\"LCP violation\", row=5, col=1)\n",
    "\n",
    "# Show plot\n",
    "fig.show()\n",
    "\n"
   ]
  },
  {
   "cell_type": "code",
   "execution_count": null,
   "metadata": {},
   "outputs": [],
   "source": []
  },
  {
   "cell_type": "code",
   "execution_count": null,
   "metadata": {},
   "outputs": [],
   "source": []
  }
 ],
 "metadata": {
  "kernelspec": {
   "display_name": "Python 3",
   "language": "python",
   "name": "python3"
  },
  "language_info": {
   "codemirror_mode": {
    "name": "ipython",
    "version": 3
   },
   "file_extension": ".py",
   "mimetype": "text/x-python",
   "name": "python",
   "nbconvert_exporter": "python",
   "pygments_lexer": "ipython3",
   "version": "3.11.3"
  }
 },
 "nbformat": 4,
 "nbformat_minor": 2
}
